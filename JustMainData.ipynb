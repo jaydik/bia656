{
 "cells": [
  {
   "cell_type": "markdown",
   "metadata": {},
   "source": [
    "Import Modules\n",
    "========"
   ]
  },
  {
   "cell_type": "code",
   "execution_count": 1,
   "metadata": {
    "collapsed": false
   },
   "outputs": [],
   "source": [
    "import pandas as pd\n",
    "import numpy as np\n",
    "import matplotlib.pyplot as plt"
   ]
  },
  {
   "cell_type": "markdown",
   "metadata": {},
   "source": [
    "Load Data\n",
    "====="
   ]
  },
  {
   "cell_type": "code",
   "execution_count": 2,
   "metadata": {
    "collapsed": false
   },
   "outputs": [
    {
     "name": "stderr",
     "output_type": "stream",
     "text": [
      "/usr/lib/python2.7/dist-packages/pandas/io/parsers.py:1150: DtypeWarning: Columns (7) have mixed types. Specify dtype option on import or set low_memory=False.\n",
      "  data = self._reader.read(nrows)\n"
     ]
    },
    {
     "data": {
      "text/html": [
       "<div style=\"max-height:1000px;max-width:1500px;overflow:auto;\">\n",
       "<table border=\"1\" class=\"dataframe\">\n",
       "  <thead>\n",
       "    <tr style=\"text-align: right;\">\n",
       "      <th></th>\n",
       "      <th>Store</th>\n",
       "      <th>DayOfWeek</th>\n",
       "      <th>Date</th>\n",
       "      <th>Sales</th>\n",
       "      <th>Customers</th>\n",
       "      <th>Open</th>\n",
       "      <th>Promo</th>\n",
       "      <th>StateHoliday</th>\n",
       "      <th>SchoolHoliday</th>\n",
       "      <th>DateTime</th>\n",
       "      <th>Year</th>\n",
       "      <th>Month</th>\n",
       "      <th>Day</th>\n",
       "      <th>WeekNumber</th>\n",
       "    </tr>\n",
       "  </thead>\n",
       "  <tbody>\n",
       "    <tr>\n",
       "      <th>0</th>\n",
       "      <td> 1</td>\n",
       "      <td> 5</td>\n",
       "      <td> 2015-07-31</td>\n",
       "      <td>  5263</td>\n",
       "      <td>  555</td>\n",
       "      <td> 1</td>\n",
       "      <td> 1</td>\n",
       "      <td> 0</td>\n",
       "      <td> 1</td>\n",
       "      <td> 2015-07-31 00:00:00</td>\n",
       "      <td> 2015</td>\n",
       "      <td> 7</td>\n",
       "      <td> 31</td>\n",
       "      <td> 31</td>\n",
       "    </tr>\n",
       "    <tr>\n",
       "      <th>1</th>\n",
       "      <td> 2</td>\n",
       "      <td> 5</td>\n",
       "      <td> 2015-07-31</td>\n",
       "      <td>  6064</td>\n",
       "      <td>  625</td>\n",
       "      <td> 1</td>\n",
       "      <td> 1</td>\n",
       "      <td> 0</td>\n",
       "      <td> 1</td>\n",
       "      <td> 2015-07-31 00:00:00</td>\n",
       "      <td> 2015</td>\n",
       "      <td> 7</td>\n",
       "      <td> 31</td>\n",
       "      <td> 31</td>\n",
       "    </tr>\n",
       "    <tr>\n",
       "      <th>2</th>\n",
       "      <td> 3</td>\n",
       "      <td> 5</td>\n",
       "      <td> 2015-07-31</td>\n",
       "      <td>  8314</td>\n",
       "      <td>  821</td>\n",
       "      <td> 1</td>\n",
       "      <td> 1</td>\n",
       "      <td> 0</td>\n",
       "      <td> 1</td>\n",
       "      <td> 2015-07-31 00:00:00</td>\n",
       "      <td> 2015</td>\n",
       "      <td> 7</td>\n",
       "      <td> 31</td>\n",
       "      <td> 31</td>\n",
       "    </tr>\n",
       "    <tr>\n",
       "      <th>3</th>\n",
       "      <td> 4</td>\n",
       "      <td> 5</td>\n",
       "      <td> 2015-07-31</td>\n",
       "      <td> 13995</td>\n",
       "      <td> 1498</td>\n",
       "      <td> 1</td>\n",
       "      <td> 1</td>\n",
       "      <td> 0</td>\n",
       "      <td> 1</td>\n",
       "      <td> 2015-07-31 00:00:00</td>\n",
       "      <td> 2015</td>\n",
       "      <td> 7</td>\n",
       "      <td> 31</td>\n",
       "      <td> 31</td>\n",
       "    </tr>\n",
       "    <tr>\n",
       "      <th>4</th>\n",
       "      <td> 5</td>\n",
       "      <td> 5</td>\n",
       "      <td> 2015-07-31</td>\n",
       "      <td>  4822</td>\n",
       "      <td>  559</td>\n",
       "      <td> 1</td>\n",
       "      <td> 1</td>\n",
       "      <td> 0</td>\n",
       "      <td> 1</td>\n",
       "      <td> 2015-07-31 00:00:00</td>\n",
       "      <td> 2015</td>\n",
       "      <td> 7</td>\n",
       "      <td> 31</td>\n",
       "      <td> 31</td>\n",
       "    </tr>\n",
       "  </tbody>\n",
       "</table>\n",
       "</div>"
      ],
      "text/plain": [
       "   Store  DayOfWeek        Date  Sales  Customers  Open  Promo StateHoliday  \\\n",
       "0      1          5  2015-07-31   5263        555     1      1            0   \n",
       "1      2          5  2015-07-31   6064        625     1      1            0   \n",
       "2      3          5  2015-07-31   8314        821     1      1            0   \n",
       "3      4          5  2015-07-31  13995       1498     1      1            0   \n",
       "4      5          5  2015-07-31   4822        559     1      1            0   \n",
       "\n",
       "   SchoolHoliday             DateTime  Year  Month  Day  WeekNumber  \n",
       "0              1  2015-07-31 00:00:00  2015      7   31          31  \n",
       "1              1  2015-07-31 00:00:00  2015      7   31          31  \n",
       "2              1  2015-07-31 00:00:00  2015      7   31          31  \n",
       "3              1  2015-07-31 00:00:00  2015      7   31          31  \n",
       "4              1  2015-07-31 00:00:00  2015      7   31          31  "
      ]
     },
     "execution_count": 2,
     "metadata": {},
     "output_type": "execute_result"
    }
   ],
   "source": [
    "data = pd.read_csv('postProcessed.csv')\n",
    "data.head()"
   ]
  },
  {
   "cell_type": "code",
   "execution_count": 3,
   "metadata": {
    "collapsed": false
   },
   "outputs": [
    {
     "data": {
      "text/html": [
       "<div style=\"max-height:1000px;max-width:1500px;overflow:auto;\">\n",
       "<table border=\"1\" class=\"dataframe\">\n",
       "  <thead>\n",
       "    <tr style=\"text-align: right;\">\n",
       "      <th></th>\n",
       "      <th>Store</th>\n",
       "      <th>DayOfWeek</th>\n",
       "      <th>Sales</th>\n",
       "      <th>Customers</th>\n",
       "      <th>Open</th>\n",
       "      <th>Promo</th>\n",
       "      <th>SchoolHoliday</th>\n",
       "      <th>Year</th>\n",
       "      <th>Month</th>\n",
       "      <th>Day</th>\n",
       "      <th>WeekNumber</th>\n",
       "    </tr>\n",
       "  </thead>\n",
       "  <tbody>\n",
       "    <tr>\n",
       "      <th>count</th>\n",
       "      <td> 1017209.000000</td>\n",
       "      <td> 1017209.000000</td>\n",
       "      <td> 1017209.000000</td>\n",
       "      <td> 1017209.000000</td>\n",
       "      <td> 1017209.000000</td>\n",
       "      <td> 1017209.000000</td>\n",
       "      <td> 1017209.000000</td>\n",
       "      <td> 1017209.000000</td>\n",
       "      <td> 1017209.000000</td>\n",
       "      <td> 1017209.000000</td>\n",
       "      <td> 1017209.000000</td>\n",
       "    </tr>\n",
       "    <tr>\n",
       "      <th>mean</th>\n",
       "      <td>     558.429727</td>\n",
       "      <td>       3.998341</td>\n",
       "      <td>    5773.818972</td>\n",
       "      <td>     633.145946</td>\n",
       "      <td>       0.830107</td>\n",
       "      <td>       0.381515</td>\n",
       "      <td>       0.178647</td>\n",
       "      <td>    2013.832292</td>\n",
       "      <td>       5.846762</td>\n",
       "      <td>      15.702790</td>\n",
       "      <td>      23.615515</td>\n",
       "    </tr>\n",
       "    <tr>\n",
       "      <th>std</th>\n",
       "      <td>     321.908651</td>\n",
       "      <td>       1.997391</td>\n",
       "      <td>    3849.926175</td>\n",
       "      <td>     464.411734</td>\n",
       "      <td>       0.375539</td>\n",
       "      <td>       0.485759</td>\n",
       "      <td>       0.383056</td>\n",
       "      <td>       0.777396</td>\n",
       "      <td>       3.326097</td>\n",
       "      <td>       8.787638</td>\n",
       "      <td>      14.433381</td>\n",
       "    </tr>\n",
       "    <tr>\n",
       "      <th>min</th>\n",
       "      <td>       1.000000</td>\n",
       "      <td>       1.000000</td>\n",
       "      <td>       0.000000</td>\n",
       "      <td>       0.000000</td>\n",
       "      <td>       0.000000</td>\n",
       "      <td>       0.000000</td>\n",
       "      <td>       0.000000</td>\n",
       "      <td>    2013.000000</td>\n",
       "      <td>       1.000000</td>\n",
       "      <td>       1.000000</td>\n",
       "      <td>       1.000000</td>\n",
       "    </tr>\n",
       "    <tr>\n",
       "      <th>25%</th>\n",
       "      <td>     280.000000</td>\n",
       "      <td>       2.000000</td>\n",
       "      <td>    3727.000000</td>\n",
       "      <td>     405.000000</td>\n",
       "      <td>       1.000000</td>\n",
       "      <td>       0.000000</td>\n",
       "      <td>       0.000000</td>\n",
       "      <td>    2013.000000</td>\n",
       "      <td>       3.000000</td>\n",
       "      <td>       8.000000</td>\n",
       "      <td>      11.000000</td>\n",
       "    </tr>\n",
       "    <tr>\n",
       "      <th>50%</th>\n",
       "      <td>     558.000000</td>\n",
       "      <td>       4.000000</td>\n",
       "      <td>    5744.000000</td>\n",
       "      <td>     609.000000</td>\n",
       "      <td>       1.000000</td>\n",
       "      <td>       0.000000</td>\n",
       "      <td>       0.000000</td>\n",
       "      <td>    2014.000000</td>\n",
       "      <td>       6.000000</td>\n",
       "      <td>      16.000000</td>\n",
       "      <td>      22.000000</td>\n",
       "    </tr>\n",
       "    <tr>\n",
       "      <th>75%</th>\n",
       "      <td>     838.000000</td>\n",
       "      <td>       6.000000</td>\n",
       "      <td>    7856.000000</td>\n",
       "      <td>     837.000000</td>\n",
       "      <td>       1.000000</td>\n",
       "      <td>       1.000000</td>\n",
       "      <td>       0.000000</td>\n",
       "      <td>    2014.000000</td>\n",
       "      <td>       8.000000</td>\n",
       "      <td>      23.000000</td>\n",
       "      <td>      35.000000</td>\n",
       "    </tr>\n",
       "    <tr>\n",
       "      <th>max</th>\n",
       "      <td>    1115.000000</td>\n",
       "      <td>       7.000000</td>\n",
       "      <td>   41551.000000</td>\n",
       "      <td>    7388.000000</td>\n",
       "      <td>       1.000000</td>\n",
       "      <td>       1.000000</td>\n",
       "      <td>       1.000000</td>\n",
       "      <td>    2015.000000</td>\n",
       "      <td>      12.000000</td>\n",
       "      <td>      31.000000</td>\n",
       "      <td>      52.000000</td>\n",
       "    </tr>\n",
       "  </tbody>\n",
       "</table>\n",
       "</div>"
      ],
      "text/plain": [
       "                Store       DayOfWeek           Sales       Customers  \\\n",
       "count  1017209.000000  1017209.000000  1017209.000000  1017209.000000   \n",
       "mean       558.429727        3.998341     5773.818972      633.145946   \n",
       "std        321.908651        1.997391     3849.926175      464.411734   \n",
       "min          1.000000        1.000000        0.000000        0.000000   \n",
       "25%        280.000000        2.000000     3727.000000      405.000000   \n",
       "50%        558.000000        4.000000     5744.000000      609.000000   \n",
       "75%        838.000000        6.000000     7856.000000      837.000000   \n",
       "max       1115.000000        7.000000    41551.000000     7388.000000   \n",
       "\n",
       "                 Open           Promo   SchoolHoliday            Year  \\\n",
       "count  1017209.000000  1017209.000000  1017209.000000  1017209.000000   \n",
       "mean         0.830107        0.381515        0.178647     2013.832292   \n",
       "std          0.375539        0.485759        0.383056        0.777396   \n",
       "min          0.000000        0.000000        0.000000     2013.000000   \n",
       "25%          1.000000        0.000000        0.000000     2013.000000   \n",
       "50%          1.000000        0.000000        0.000000     2014.000000   \n",
       "75%          1.000000        1.000000        0.000000     2014.000000   \n",
       "max          1.000000        1.000000        1.000000     2015.000000   \n",
       "\n",
       "                Month             Day      WeekNumber  \n",
       "count  1017209.000000  1017209.000000  1017209.000000  \n",
       "mean         5.846762       15.702790       23.615515  \n",
       "std          3.326097        8.787638       14.433381  \n",
       "min          1.000000        1.000000        1.000000  \n",
       "25%          3.000000        8.000000       11.000000  \n",
       "50%          6.000000       16.000000       22.000000  \n",
       "75%          8.000000       23.000000       35.000000  \n",
       "max         12.000000       31.000000       52.000000  "
      ]
     },
     "execution_count": 3,
     "metadata": {},
     "output_type": "execute_result"
    }
   ],
   "source": [
    "data.describe()"
   ]
  },
  {
   "cell_type": "code",
   "execution_count": 4,
   "metadata": {
    "collapsed": false
   },
   "outputs": [
    {
     "data": {
      "text/plain": [
       "Store             int64\n",
       "DayOfWeek         int64\n",
       "Date             object\n",
       "Sales             int64\n",
       "Customers         int64\n",
       "Open              int64\n",
       "Promo             int64\n",
       "StateHoliday     object\n",
       "SchoolHoliday     int64\n",
       "DateTime         object\n",
       "Year              int64\n",
       "Month             int64\n",
       "Day               int64\n",
       "WeekNumber        int64\n",
       "dtype: object"
      ]
     },
     "execution_count": 4,
     "metadata": {},
     "output_type": "execute_result"
    }
   ],
   "source": [
    "data.dtypes"
   ]
  },
  {
   "cell_type": "markdown",
   "metadata": {},
   "source": [
    "## Fix Variables"
   ]
  },
  {
   "cell_type": "code",
   "execution_count": 5,
   "metadata": {
    "collapsed": false
   },
   "outputs": [],
   "source": [
    "from sklearn.preprocessing import LabelEncoder\n",
    "data.ix[:, ['StateHoliday']] = data.ix[:, ['StateHoliday']].astype(str)\n",
    "\n",
    "le = LabelEncoder().fit(np.unique(data['StateHoliday']))\n",
    "\n",
    "data.ix[:, 'StateHoliday'] = le.transform(data.ix[:, 'StateHoliday'])"
   ]
  },
  {
   "cell_type": "code",
   "execution_count": 6,
   "metadata": {
    "collapsed": false
   },
   "outputs": [
    {
     "data": {
      "text/plain": [
       "Store             int64\n",
       "DayOfWeek         int64\n",
       "Date             object\n",
       "Sales             int64\n",
       "Customers         int64\n",
       "Open              int64\n",
       "Promo             int64\n",
       "StateHoliday      int64\n",
       "SchoolHoliday     int64\n",
       "DateTime         object\n",
       "Year              int64\n",
       "Month             int64\n",
       "Day               int64\n",
       "WeekNumber        int64\n",
       "dtype: object"
      ]
     },
     "execution_count": 6,
     "metadata": {},
     "output_type": "execute_result"
    }
   ],
   "source": [
    "data.dtypes"
   ]
  },
  {
   "cell_type": "markdown",
   "metadata": {},
   "source": [
    "## Split the data"
   ]
  },
  {
   "cell_type": "code",
   "execution_count": 7,
   "metadata": {
    "collapsed": false
   },
   "outputs": [],
   "source": [
    "from sklearn.cross_validation import train_test_split\n",
    "\n",
    "X_train, X_test, y_train, y_test = train_test_split(data.drop(['Sales', 'Date', 'DateTime'], axis=1), \n",
    "                                                    data['Sales'], \n",
    "                                                    test_size=0.25, \n",
    "                                                    random_state=8675309)"
   ]
  },
  {
   "cell_type": "markdown",
   "metadata": {},
   "source": [
    "## Run some feature selection to see variable importance"
   ]
  },
  {
   "cell_type": "code",
   "execution_count": 10,
   "metadata": {
    "collapsed": false
   },
   "outputs": [
    {
     "name": "stdout",
     "output_type": "stream",
     "text": [
      "('Store', False)\n",
      "('DayOfWeek', False)\n",
      "('Customers', True)\n",
      "('Open', True)\n",
      "('Promo', False)\n",
      "('StateHoliday', False)\n",
      "('SchoolHoliday', False)\n",
      "('Year', False)\n",
      "('Month', False)\n",
      "('Day', False)\n",
      "('WeekNumber', False)\n"
     ]
    }
   ],
   "source": [
    "from sklearn.feature_selection import SelectKBest, f_regression\n",
    "\n",
    "kb = SelectKBest(f_regression, k=2).fit(X_train, y_train)\n",
    "for x in zip(X_train.columns, kb.get_support()):\n",
    "    print x"
   ]
  },
  {
   "cell_type": "markdown",
   "metadata": {},
   "source": [
    "From fiddling with $k$ here, we get the following variable importance (in order of descending importance)\n",
    "\n",
    "1. Customers\n",
    "- Open\n",
    "- DayOfWeek\n",
    "- Promo\n",
    "- StateHoliday\n",
    "- SchoolHoliday\n",
    "- WeekNumber\n",
    "- Month\n",
    "- Year\n",
    "- Day\n",
    "- Store"
   ]
  },
  {
   "cell_type": "markdown",
   "metadata": {},
   "source": [
    "## Fit a tree (using 5 most important variables)"
   ]
  },
  {
   "cell_type": "code",
   "execution_count": 11,
   "metadata": {
    "collapsed": false
   },
   "outputs": [],
   "source": [
    "from sklearn.tree import DecisionTreeRegressor\n",
    "\n",
    "tree_one = DecisionTreeRegressor().fit(kb.transform(X_train), y_train)"
   ]
  },
  {
   "cell_type": "code",
   "execution_count": 12,
   "metadata": {
    "collapsed": false
   },
   "outputs": [],
   "source": [
    "fitted_tree_one = tree_one.predict(kb.transform(X_test))"
   ]
  },
  {
   "cell_type": "code",
   "execution_count": 13,
   "metadata": {
    "collapsed": false
   },
   "outputs": [
    {
     "data": {
      "text/plain": [
       "1539.3774365665768"
      ]
     },
     "execution_count": 13,
     "metadata": {},
     "output_type": "execute_result"
    }
   ],
   "source": [
    "from sklearn.metrics import mean_squared_error\n",
    "from math import sqrt\n",
    "\n",
    "sqrt(mean_squared_error(fitted_tree_one, y_test))\n",
    "\n"
   ]
  },
  {
   "cell_type": "markdown",
   "metadata": {},
   "source": [
    "## Fit a tree (using all variables)"
   ]
  },
  {
   "cell_type": "code",
   "execution_count": 14,
   "metadata": {
    "collapsed": true
   },
   "outputs": [],
   "source": [
    "tree_two = DecisionTreeRegressor().fit(X_train, y_train)"
   ]
  },
  {
   "cell_type": "code",
   "execution_count": 15,
   "metadata": {
    "collapsed": true
   },
   "outputs": [],
   "source": [
    "fitted_tree_two = tree_two.predict(X_test)"
   ]
  },
  {
   "cell_type": "code",
   "execution_count": 16,
   "metadata": {
    "collapsed": false
   },
   "outputs": [
    {
     "data": {
      "text/plain": [
       "1115.946742532593"
      ]
     },
     "execution_count": 16,
     "metadata": {},
     "output_type": "execute_result"
    }
   ],
   "source": [
    "sqrt(mean_squared_error(fitted_tree_two, y_test))"
   ]
  },
  {
   "cell_type": "markdown",
   "metadata": {},
   "source": [
    "So we can see all variables are better than the best 5. Good to know"
   ]
  },
  {
   "cell_type": "markdown",
   "metadata": {},
   "source": [
    "## Test Data doesn't have customers, last tree without using custs"
   ]
  },
  {
   "cell_type": "code",
   "execution_count": 17,
   "metadata": {
    "collapsed": false
   },
   "outputs": [],
   "source": [
    "tree_three = DecisionTreeRegressor().fit(X_train.drop('Customers', axis=1), y_train)"
   ]
  },
  {
   "cell_type": "markdown",
   "metadata": {},
   "source": [
    "## Predicting and submitting, to get a submission in before the deadline"
   ]
  },
  {
   "cell_type": "code",
   "execution_count": 138,
   "metadata": {
    "collapsed": false
   },
   "outputs": [
    {
     "data": {
      "text/html": [
       "<div style=\"max-height:1000px;max-width:1500px;overflow:auto;\">\n",
       "<table border=\"1\" class=\"dataframe\">\n",
       "  <thead>\n",
       "    <tr style=\"text-align: right;\">\n",
       "      <th></th>\n",
       "      <th>Store</th>\n",
       "      <th>DayOfWeek</th>\n",
       "      <th>Date</th>\n",
       "      <th>Open</th>\n",
       "      <th>Promo</th>\n",
       "      <th>StateHoliday</th>\n",
       "      <th>SchoolHoliday</th>\n",
       "      <th>DateTime</th>\n",
       "      <th>Year</th>\n",
       "      <th>Month</th>\n",
       "      <th>Day</th>\n",
       "      <th>WeekNumber</th>\n",
       "    </tr>\n",
       "    <tr>\n",
       "      <th>Id</th>\n",
       "      <th></th>\n",
       "      <th></th>\n",
       "      <th></th>\n",
       "      <th></th>\n",
       "      <th></th>\n",
       "      <th></th>\n",
       "      <th></th>\n",
       "      <th></th>\n",
       "      <th></th>\n",
       "      <th></th>\n",
       "      <th></th>\n",
       "      <th></th>\n",
       "    </tr>\n",
       "  </thead>\n",
       "  <tbody>\n",
       "    <tr>\n",
       "      <th>1</th>\n",
       "      <td> 1</td>\n",
       "      <td> 4</td>\n",
       "      <td> 2015-09-17</td>\n",
       "      <td> 1</td>\n",
       "      <td> 1</td>\n",
       "      <td> 0</td>\n",
       "      <td> 0</td>\n",
       "      <td>2015-09-17</td>\n",
       "      <td> 2015</td>\n",
       "      <td> 9</td>\n",
       "      <td> 17</td>\n",
       "      <td> 38</td>\n",
       "    </tr>\n",
       "    <tr>\n",
       "      <th>2</th>\n",
       "      <td> 3</td>\n",
       "      <td> 4</td>\n",
       "      <td> 2015-09-17</td>\n",
       "      <td> 1</td>\n",
       "      <td> 1</td>\n",
       "      <td> 0</td>\n",
       "      <td> 0</td>\n",
       "      <td>2015-09-17</td>\n",
       "      <td> 2015</td>\n",
       "      <td> 9</td>\n",
       "      <td> 17</td>\n",
       "      <td> 38</td>\n",
       "    </tr>\n",
       "    <tr>\n",
       "      <th>3</th>\n",
       "      <td> 7</td>\n",
       "      <td> 4</td>\n",
       "      <td> 2015-09-17</td>\n",
       "      <td> 1</td>\n",
       "      <td> 1</td>\n",
       "      <td> 0</td>\n",
       "      <td> 0</td>\n",
       "      <td>2015-09-17</td>\n",
       "      <td> 2015</td>\n",
       "      <td> 9</td>\n",
       "      <td> 17</td>\n",
       "      <td> 38</td>\n",
       "    </tr>\n",
       "    <tr>\n",
       "      <th>4</th>\n",
       "      <td> 8</td>\n",
       "      <td> 4</td>\n",
       "      <td> 2015-09-17</td>\n",
       "      <td> 1</td>\n",
       "      <td> 1</td>\n",
       "      <td> 0</td>\n",
       "      <td> 0</td>\n",
       "      <td>2015-09-17</td>\n",
       "      <td> 2015</td>\n",
       "      <td> 9</td>\n",
       "      <td> 17</td>\n",
       "      <td> 38</td>\n",
       "    </tr>\n",
       "    <tr>\n",
       "      <th>5</th>\n",
       "      <td> 9</td>\n",
       "      <td> 4</td>\n",
       "      <td> 2015-09-17</td>\n",
       "      <td> 1</td>\n",
       "      <td> 1</td>\n",
       "      <td> 0</td>\n",
       "      <td> 0</td>\n",
       "      <td>2015-09-17</td>\n",
       "      <td> 2015</td>\n",
       "      <td> 9</td>\n",
       "      <td> 17</td>\n",
       "      <td> 38</td>\n",
       "    </tr>\n",
       "  </tbody>\n",
       "</table>\n",
       "</div>"
      ],
      "text/plain": [
       "    Store  DayOfWeek        Date  Open  Promo  StateHoliday  SchoolHoliday  \\\n",
       "Id                                                                           \n",
       "1       1          4  2015-09-17     1      1             0              0   \n",
       "2       3          4  2015-09-17     1      1             0              0   \n",
       "3       7          4  2015-09-17     1      1             0              0   \n",
       "4       8          4  2015-09-17     1      1             0              0   \n",
       "5       9          4  2015-09-17     1      1             0              0   \n",
       "\n",
       "     DateTime  Year  Month  Day  WeekNumber  \n",
       "Id                                           \n",
       "1  2015-09-17  2015      9   17          38  \n",
       "2  2015-09-17  2015      9   17          38  \n",
       "3  2015-09-17  2015      9   17          38  \n",
       "4  2015-09-17  2015      9   17          38  \n",
       "5  2015-09-17  2015      9   17          38  "
      ]
     },
     "execution_count": 138,
     "metadata": {},
     "output_type": "execute_result"
    }
   ],
   "source": [
    "testing_data = pd.read_csv('test.csv', index_col=0)\n",
    "\n",
    "testing_data['DateTime'] = pd.to_datetime(testing_data['Date'])\n",
    "testing_data['Year'] = testing_data['DateTime'].apply(lambda x: x.year)\n",
    "testing_data['Month'] = testing_data['DateTime'].apply(lambda x: x.month)\n",
    "testing_data['Day'] = testing_data['DateTime'].apply(lambda x: x.day)\n",
    "testing_data['WeekNumber'] = testing_data['DateTime'].apply(lambda x: x.isocalendar()[1])\n",
    "\n",
    "testing_data.ix[:, 'StateHoliday'] = le.transform(testing_data.ix[:, 'StateHoliday'])\n",
    "testing_data.ix[(testing_data['Open'] != 1) & (testing_data['Open'] != 0), 'Open'] = int(1)\n",
    "\n",
    "testing_data.head()"
   ]
  },
  {
   "cell_type": "code",
   "execution_count": 140,
   "metadata": {
    "collapsed": false
   },
   "outputs": [],
   "source": [
    "testing_data['sales_prediction'] = tree_three.predict(testing_data.drop(['Date', 'DateTime'], axis=1))"
   ]
  },
  {
   "cell_type": "code",
   "execution_count": 144,
   "metadata": {
    "collapsed": false
   },
   "outputs": [],
   "source": [
    "testing_data['sales_prediction'].to_csv('firstSubmission.csv', header=['Sales'])"
   ]
  },
  {
   "cell_type": "code",
   "execution_count": null,
   "metadata": {
    "collapsed": true
   },
   "outputs": [],
   "source": []
  }
 ],
 "metadata": {
  "kernelspec": {
   "display_name": "Python 2",
   "language": "python",
   "name": "python2"
  },
  "language_info": {
   "codemirror_mode": {
    "name": "ipython",
    "version": 2
   },
   "file_extension": ".py",
   "mimetype": "text/x-python",
   "name": "python",
   "nbconvert_exporter": "python",
   "pygments_lexer": "ipython2",
   "version": "2.7.10"
  }
 },
 "nbformat": 4,
 "nbformat_minor": 0
}
