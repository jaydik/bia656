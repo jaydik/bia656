{
 "cells": [
  {
   "cell_type": "markdown",
   "metadata": {},
   "source": [
    "## Imports"
   ]
  },
  {
   "cell_type": "code",
   "execution_count": 10,
   "metadata": {
    "collapsed": false
   },
   "outputs": [],
   "source": [
    "import pandas as pd\n",
    "import numpy as np\n",
    "import matplotlib.pyplot as plt"
   ]
  },
  {
   "cell_type": "code",
   "execution_count": null,
   "metadata": {
    "collapsed": false
   },
   "outputs": [],
   "source": []
  },
  {
   "cell_type": "code",
   "execution_count": null,
   "metadata": {
    "collapsed": true
   },
   "outputs": [],
   "source": []
  },
  {
   "cell_type": "code",
   "execution_count": null,
   "metadata": {
    "collapsed": false
   },
   "outputs": [],
   "source": []
  },
  {
   "cell_type": "raw",
   "metadata": {},
   "source": [
    "## Import Data"
   ]
  },
  {
   "cell_type": "code",
   "execution_count": 21,
   "metadata": {
    "collapsed": false
   },
   "outputs": [],
   "source": [
    "train = pd.read_csv('../cleaneddata/cleanedTraining.csv', index_col=0)"
   ]
  },
  {
   "cell_type": "code",
   "execution_count": 22,
   "metadata": {
    "collapsed": false
   },
   "outputs": [
    {
     "data": {
      "text/plain": [
       "0                       float64\n",
       "1                       float64\n",
       "2                       float64\n",
       "3                       float64\n",
       "4                       float64\n",
       "5                       float64\n",
       "6                       float64\n",
       "7                       float64\n",
       "8                       float64\n",
       "9                       float64\n",
       "10                      float64\n",
       "11                      float64\n",
       "12                      float64\n",
       "13                      float64\n",
       "14                      float64\n",
       "LogSales                float64\n",
       "DayOfWeek                 int64\n",
       "Store                     int64\n",
       "WeekNumber                int64\n",
       "Observed                float64\n",
       "Trend                   float64\n",
       "MeanCustomerObserved    float64\n",
       "dtype: object"
      ]
     },
     "execution_count": 22,
     "metadata": {},
     "output_type": "execute_result"
    }
   ],
   "source": [
    "train.dtypes"
   ]
  },
  {
   "cell_type": "code",
   "execution_count": 16,
   "metadata": {
    "collapsed": false
   },
   "outputs": [],
   "source": [
    "#train.isnull().sum()"
   ]
  },
  {
   "cell_type": "code",
   "execution_count": null,
   "metadata": {
    "collapsed": true
   },
   "outputs": [],
   "source": []
  },
  {
   "cell_type": "code",
   "execution_count": null,
   "metadata": {
    "collapsed": false
   },
   "outputs": [],
   "source": []
  },
  {
   "cell_type": "code",
   "execution_count": null,
   "metadata": {
    "collapsed": false
   },
   "outputs": [],
   "source": []
  },
  {
   "cell_type": "raw",
   "metadata": {},
   "source": []
  },
  {
   "cell_type": "markdown",
   "metadata": {},
   "source": [
    "## Train/Test Split"
   ]
  },
  {
   "cell_type": "code",
   "execution_count": 41,
   "metadata": {
    "collapsed": false
   },
   "outputs": [],
   "source": [
    "from sklearn.cross_validation import train_test_split\n",
    "\n",
    "X_train, X_test, y_train, y_test = train_test_split(train.drop(['LogSales'], axis=1), \n",
    "                                                    train['LogSales'], \n",
    "                                                    test_size=0.25, \n",
    "                                                    random_state=123)"
   ]
  },
  {
   "cell_type": "code",
   "execution_count": 42,
   "metadata": {
    "collapsed": true
   },
   "outputs": [],
   "source": [
    "from sklearn.tree import DecisionTreeRegressor\n",
    "\n",
    "explore_tree = DecisionTreeRegressor().fit(X_train, y_train)\n",
    "pred = explore_tree.predict(X_test)"
   ]
  },
  {
   "cell_type": "code",
   "execution_count": 43,
   "metadata": {
    "collapsed": false
   },
   "outputs": [
    {
     "name": "stdout",
     "output_type": "stream",
     "text": [
      "0.179174826577\n"
     ]
    }
   ],
   "source": [
    "from sklearn.metrics import mean_squared_error\n",
    "from math import sqrt\n",
    "\n",
    "rmse = sqrt(mean_squared_error(pred, y_test))\n",
    "\n",
    "print(rmse)"
   ]
  },
  {
   "cell_type": "code",
   "execution_count": 44,
   "metadata": {
    "collapsed": false
   },
   "outputs": [
    {
     "data": {
      "image/png": "[encoded data removed]",
      "text/plain": [
       "<matplotlib.figure.Figure at 0x10b2f6650>"
      ]
     },
     "metadata": {},
     "output_type": "display_data"
    }
   ],
   "source": [
    "%matplotlib inline\n",
    "feature_importance = rf.feature_importances_\n",
    "# make importances relative to max importance\n",
    "feature_importance = 100.0 * (feature_importance / feature_importance.max())\n",
    "sorted_idx = np.argsort(feature_importance)\n",
    "pos = np.arange(sorted_idx.shape[0]) + .5\n",
    "plt.subplot(1, 2, 2)\n",
    "plt.barh(pos, feature_importance[sorted_idx], align='center')\n",
    "plt.yticks(pos, X_train.columns[sorted_idx])\n",
    "plt.xlabel('Relative Importance')\n",
    "plt.title('Variable Importance')\n",
    "plt.show()"
   ]
  },
  {
   "cell_type": "code",
   "execution_count": 53,
   "metadata": {
    "collapsed": true
   },
   "outputs": [],
   "source": [
    "import xgboost as xgb\n",
    "\n",
    "def ToWeight(y):\n",
    "    w = np.zeros(y.shape, dtype=float)\n",
    "    ind = y != 0\n",
    "    w[ind] = 1./(y[ind]**2)\n",
    "    return w\n",
    "\n",
    "\n",
    "def rmspe(yhat, y):\n",
    "    w = ToWeight(y)\n",
    "    rmspe = np.sqrt(np.mean( w * (y - yhat)**2 ))\n",
    "    return rmspe\n",
    "\n",
    "\n",
    "def rmspe_xg(yhat, y):\n",
    "    # y = y.values\n",
    "    y = y.get_label()\n",
    "    y = np.exp(y) - 1\n",
    "    yhat = np.exp(yhat) - 1\n",
    "    w = ToWeight(y)\n",
    "    rmspe = np.sqrt(np.mean(w * (y - yhat)**2))\n",
    "    return \"rmspe\", rmspe"
   ]
  },
  {
   "cell_type": "code",
   "execution_count": 54,
   "metadata": {
    "collapsed": false
   },
   "outputs": [
    {
     "name": "stderr",
     "output_type": "stream",
     "text": [
      "Will train until eval error hasn't decreased in 50 rounds.\n",
      "[0]\ttrain-rmspe:0.998726\teval-rmspe:0.998725\n",
      "[1]\ttrain-rmspe:0.994787\teval-rmspe:0.994782\n",
      "[2]\ttrain-rmspe:0.984909\teval-rmspe:0.984896\n",
      "[3]\ttrain-rmspe:0.964969\teval-rmspe:0.964928\n",
      "[4]\ttrain-rmspe:0.931526\teval-rmspe:0.931410\n",
      "[5]\ttrain-rmspe:0.883090\teval-rmspe:0.882799\n",
      "[6]\ttrain-rmspe:0.820820\teval-rmspe:0.820125\n",
      "[7]\ttrain-rmspe:0.748318\teval-rmspe:0.746857\n",
      "[8]\ttrain-rmspe:0.670257\teval-rmspe:0.667465\n",
      "[9]\ttrain-rmspe:0.591744\teval-rmspe:0.586912\n",
      "[10]\ttrain-rmspe:0.516845\teval-rmspe:0.509281\n",
      "[11]\ttrain-rmspe:0.449321\teval-rmspe:0.437769\n",
      "[12]\ttrain-rmspe:0.390719\teval-rmspe:0.374337\n",
      "[13]\ttrain-rmspe:0.341856\teval-rmspe:0.320164\n",
      "[14]\ttrain-rmspe:0.303999\teval-rmspe:0.275561\n",
      "[15]\ttrain-rmspe:0.271742\teval-rmspe:0.239989\n",
      "[16]\ttrain-rmspe:0.251194\teval-rmspe:0.213086\n",
      "[17]\ttrain-rmspe:0.237230\teval-rmspe:0.193139\n",
      "[18]\ttrain-rmspe:0.227519\teval-rmspe:0.178833\n",
      "[19]\ttrain-rmspe:0.221911\teval-rmspe:0.169174\n",
      "[20]\ttrain-rmspe:0.213415\teval-rmspe:0.163076\n",
      "[21]\ttrain-rmspe:0.211688\teval-rmspe:0.159443\n",
      "[22]\ttrain-rmspe:0.210905\teval-rmspe:0.157562\n",
      "[23]\ttrain-rmspe:0.210441\teval-rmspe:0.156500\n",
      "[24]\ttrain-rmspe:0.209062\teval-rmspe:0.156102\n",
      "[25]\ttrain-rmspe:0.208752\teval-rmspe:0.155434\n",
      "[26]\ttrain-rmspe:0.208910\teval-rmspe:0.155313\n",
      "[27]\ttrain-rmspe:0.209026\teval-rmspe:0.155293\n",
      "[28]\ttrain-rmspe:0.206198\teval-rmspe:0.155256\n",
      "[29]\ttrain-rmspe:0.206080\teval-rmspe:0.155238\n",
      "[30]\ttrain-rmspe:0.206435\teval-rmspe:0.155446\n",
      "[31]\ttrain-rmspe:0.205644\teval-rmspe:0.154641\n",
      "[32]\ttrain-rmspe:0.205685\teval-rmspe:0.154496\n",
      "[33]\ttrain-rmspe:0.204051\teval-rmspe:0.154421\n",
      "[34]\ttrain-rmspe:0.202285\teval-rmspe:0.153750\n",
      "[35]\ttrain-rmspe:0.202041\teval-rmspe:0.153634\n",
      "[36]\ttrain-rmspe:0.201905\teval-rmspe:0.153482\n",
      "[37]\ttrain-rmspe:0.200913\teval-rmspe:0.153237\n",
      "[38]\ttrain-rmspe:0.200530\teval-rmspe:0.153178\n",
      "[39]\ttrain-rmspe:0.198973\teval-rmspe:0.152954\n",
      "[40]\ttrain-rmspe:0.198765\teval-rmspe:0.152855\n",
      "[41]\ttrain-rmspe:0.197731\teval-rmspe:0.152098\n",
      "[42]\ttrain-rmspe:0.197384\teval-rmspe:0.151721\n",
      "[43]\ttrain-rmspe:0.197200\teval-rmspe:0.151615\n",
      "[44]\ttrain-rmspe:0.196951\teval-rmspe:0.151517\n",
      "[45]\ttrain-rmspe:0.196440\teval-rmspe:0.151061\n",
      "[46]\ttrain-rmspe:0.196046\teval-rmspe:0.150913\n",
      "[47]\ttrain-rmspe:0.195560\teval-rmspe:0.150695\n",
      "[48]\ttrain-rmspe:0.195317\teval-rmspe:0.150521\n",
      "[49]\ttrain-rmspe:0.195104\teval-rmspe:0.150511\n",
      "[50]\ttrain-rmspe:0.195012\teval-rmspe:0.150352\n",
      "[51]\ttrain-rmspe:0.194720\teval-rmspe:0.150119\n",
      "[52]\ttrain-rmspe:0.193881\teval-rmspe:0.149344\n",
      "[53]\ttrain-rmspe:0.193731\teval-rmspe:0.149221\n",
      "[54]\ttrain-rmspe:0.193336\teval-rmspe:0.149144\n",
      "[55]\ttrain-rmspe:0.192854\teval-rmspe:0.148949\n",
      "[56]\ttrain-rmspe:0.191846\teval-rmspe:0.148647\n",
      "[57]\ttrain-rmspe:0.191643\teval-rmspe:0.148511\n",
      "[58]\ttrain-rmspe:0.191520\teval-rmspe:0.148395\n",
      "[59]\ttrain-rmspe:0.191263\teval-rmspe:0.148264\n",
      "[60]\ttrain-rmspe:0.191255\teval-rmspe:0.148265\n",
      "[61]\ttrain-rmspe:0.172715\teval-rmspe:0.148139\n",
      "[62]\ttrain-rmspe:0.172473\teval-rmspe:0.148117\n",
      "[63]\ttrain-rmspe:0.171587\teval-rmspe:0.147482\n",
      "[64]\ttrain-rmspe:0.171177\teval-rmspe:0.147412\n",
      "[65]\ttrain-rmspe:0.170978\teval-rmspe:0.147176\n",
      "[66]\ttrain-rmspe:0.170630\teval-rmspe:0.147173\n",
      "[67]\ttrain-rmspe:0.170317\teval-rmspe:0.146832\n",
      "[68]\ttrain-rmspe:0.170219\teval-rmspe:0.146724\n",
      "[69]\ttrain-rmspe:0.170193\teval-rmspe:0.146705\n",
      "[70]\ttrain-rmspe:0.169762\teval-rmspe:0.146660\n",
      "[71]\ttrain-rmspe:0.169237\teval-rmspe:0.146298\n",
      "[72]\ttrain-rmspe:0.169460\teval-rmspe:0.145864\n",
      "[73]\ttrain-rmspe:0.169036\teval-rmspe:0.145566\n",
      "[74]\ttrain-rmspe:0.168827\teval-rmspe:0.145480\n",
      "[75]\ttrain-rmspe:0.168700\teval-rmspe:0.145434\n",
      "[76]\ttrain-rmspe:0.168495\teval-rmspe:0.145501\n",
      "[77]\ttrain-rmspe:0.168024\teval-rmspe:0.145299\n",
      "[78]\ttrain-rmspe:0.167787\teval-rmspe:0.145228\n",
      "[79]\ttrain-rmspe:0.167442\teval-rmspe:0.145138\n",
      "[80]\ttrain-rmspe:0.167294\teval-rmspe:0.145091\n",
      "[81]\ttrain-rmspe:0.167094\teval-rmspe:0.145111\n",
      "[82]\ttrain-rmspe:0.166284\teval-rmspe:0.145054\n",
      "[83]\ttrain-rmspe:0.165992\teval-rmspe:0.145033\n",
      "[84]\ttrain-rmspe:0.165834\teval-rmspe:0.145011\n",
      "[85]\ttrain-rmspe:0.165299\teval-rmspe:0.144949\n",
      "[86]\ttrain-rmspe:0.165101\teval-rmspe:0.144845\n",
      "[87]\ttrain-rmspe:0.165050\teval-rmspe:0.144798\n",
      "[88]\ttrain-rmspe:0.164846\teval-rmspe:0.144714\n",
      "[89]\ttrain-rmspe:0.164813\teval-rmspe:0.144672\n",
      "[90]\ttrain-rmspe:0.164577\teval-rmspe:0.144524\n",
      "[91]\ttrain-rmspe:0.164520\teval-rmspe:0.144258\n",
      "[92]\ttrain-rmspe:0.164875\teval-rmspe:0.144230\n",
      "[93]\ttrain-rmspe:0.164647\teval-rmspe:0.144210\n",
      "[94]\ttrain-rmspe:0.164778\teval-rmspe:0.144138\n",
      "[95]\ttrain-rmspe:0.164575\teval-rmspe:0.143939\n",
      "[96]\ttrain-rmspe:0.164458\teval-rmspe:0.143812\n",
      "[97]\ttrain-rmspe:0.164444\teval-rmspe:0.143790\n",
      "[98]\ttrain-rmspe:0.164387\teval-rmspe:0.143728\n",
      "[99]\ttrain-rmspe:0.164229\teval-rmspe:0.143613\n",
      "[100]\ttrain-rmspe:0.164140\teval-rmspe:0.143462\n",
      "[101]\ttrain-rmspe:0.163355\teval-rmspe:0.143425\n",
      "[102]\ttrain-rmspe:0.163178\teval-rmspe:0.143481\n",
      "[103]\ttrain-rmspe:0.163078\teval-rmspe:0.143614\n",
      "[104]\ttrain-rmspe:0.162897\teval-rmspe:0.143514\n",
      "[105]\ttrain-rmspe:0.162607\teval-rmspe:0.143375\n",
      "[106]\ttrain-rmspe:0.160648\teval-rmspe:0.143548\n",
      "[107]\ttrain-rmspe:0.160512\teval-rmspe:0.143454\n",
      "[108]\ttrain-rmspe:0.160521\teval-rmspe:0.143425\n",
      "[109]\ttrain-rmspe:0.160269\teval-rmspe:0.143457\n",
      "[110]\ttrain-rmspe:0.160111\teval-rmspe:0.143483\n",
      "[111]\ttrain-rmspe:0.159996\teval-rmspe:0.143514\n",
      "[112]\ttrain-rmspe:0.159819\teval-rmspe:0.143577\n",
      "[113]\ttrain-rmspe:0.159420\teval-rmspe:0.143550\n",
      "[114]\ttrain-rmspe:0.159381\teval-rmspe:0.143510\n",
      "[115]\ttrain-rmspe:0.159342\teval-rmspe:0.143478\n",
      "[116]\ttrain-rmspe:0.159671\teval-rmspe:0.143517\n",
      "[117]\ttrain-rmspe:0.159342\teval-rmspe:0.143520\n",
      "[118]\ttrain-rmspe:0.159645\teval-rmspe:0.143547\n",
      "[119]\ttrain-rmspe:0.159526\teval-rmspe:0.143431\n",
      "[120]\ttrain-rmspe:0.159478\teval-rmspe:0.143438\n",
      "[121]\ttrain-rmspe:0.159318\teval-rmspe:0.143397\n",
      "[122]\ttrain-rmspe:0.159299\teval-rmspe:0.143390\n",
      "[123]\ttrain-rmspe:0.158301\teval-rmspe:0.143479\n",
      "[124]\ttrain-rmspe:0.158183\teval-rmspe:0.143487\n",
      "[125]\ttrain-rmspe:0.158079\teval-rmspe:0.143448\n",
      "[126]\ttrain-rmspe:0.157830\teval-rmspe:0.143397\n",
      "[127]\ttrain-rmspe:0.157158\teval-rmspe:0.143390\n",
      "[128]\ttrain-rmspe:0.157094\teval-rmspe:0.143377\n",
      "[129]\ttrain-rmspe:0.156987\teval-rmspe:0.143388\n",
      "[130]\ttrain-rmspe:0.151429\teval-rmspe:0.143381\n",
      "[131]\ttrain-rmspe:0.151408\teval-rmspe:0.143364\n",
      "[132]\ttrain-rmspe:0.148973\teval-rmspe:0.143401\n",
      "[133]\ttrain-rmspe:0.148952\teval-rmspe:0.143384\n",
      "[134]\ttrain-rmspe:0.148829\teval-rmspe:0.143352\n",
      "[135]\ttrain-rmspe:0.148641\teval-rmspe:0.143237\n",
      "[136]\ttrain-rmspe:0.148565\teval-rmspe:0.143186\n",
      "[137]\ttrain-rmspe:0.148507\teval-rmspe:0.143188\n",
      "[138]\ttrain-rmspe:0.148413\teval-rmspe:0.143307\n",
      "[139]\ttrain-rmspe:0.148351\teval-rmspe:0.143272\n",
      "[140]\ttrain-rmspe:0.137092\teval-rmspe:0.143435\n",
      "[141]\ttrain-rmspe:0.136920\teval-rmspe:0.143311\n",
      "[142]\ttrain-rmspe:0.136704\teval-rmspe:0.143300\n",
      "[143]\ttrain-rmspe:0.136225\teval-rmspe:0.143215\n",
      "[144]\ttrain-rmspe:0.136258\teval-rmspe:0.143196\n",
      "[145]\ttrain-rmspe:0.136119\teval-rmspe:0.143125\n",
      "[146]\ttrain-rmspe:0.136000\teval-rmspe:0.143112\n",
      "[147]\ttrain-rmspe:0.133141\teval-rmspe:0.143208\n",
      "[148]\ttrain-rmspe:0.133170\teval-rmspe:0.143118\n",
      "[149]\ttrain-rmspe:0.133090\teval-rmspe:0.143169\n",
      "[150]\ttrain-rmspe:0.132996\teval-rmspe:0.143203\n",
      "[151]\ttrain-rmspe:0.133006\teval-rmspe:0.143150\n",
      "[152]\ttrain-rmspe:0.132995\teval-rmspe:0.143187\n",
      "[153]\ttrain-rmspe:0.132908\teval-rmspe:0.143234\n",
      "[154]\ttrain-rmspe:0.132835\teval-rmspe:0.143239\n",
      "[155]\ttrain-rmspe:0.132708\teval-rmspe:0.143271\n",
      "[156]\ttrain-rmspe:0.132626\teval-rmspe:0.143327\n",
      "[157]\ttrain-rmspe:0.132622\teval-rmspe:0.143341\n",
      "[158]\ttrain-rmspe:0.132451\teval-rmspe:0.143311\n",
      "[159]\ttrain-rmspe:0.132287\teval-rmspe:0.143375\n",
      "[160]\ttrain-rmspe:0.132208\teval-rmspe:0.143329\n",
      "[161]\ttrain-rmspe:0.132163\teval-rmspe:0.143301\n",
      "[162]\ttrain-rmspe:0.132063\teval-rmspe:0.143341\n",
      "[163]\ttrain-rmspe:0.131688\teval-rmspe:0.143378\n",
      "[164]\ttrain-rmspe:0.131449\teval-rmspe:0.143364\n",
      "[165]\ttrain-rmspe:0.131358\teval-rmspe:0.143342\n",
      "[166]\ttrain-rmspe:0.131365\teval-rmspe:0.143343\n",
      "[167]\ttrain-rmspe:0.131262\teval-rmspe:0.143385\n",
      "[168]\ttrain-rmspe:0.131314\teval-rmspe:0.143358\n",
      "[169]\ttrain-rmspe:0.131318\teval-rmspe:0.143348\n",
      "[170]\ttrain-rmspe:0.131276\teval-rmspe:0.143324\n",
      "[171]\ttrain-rmspe:0.131008\teval-rmspe:0.143326\n",
      "[172]\ttrain-rmspe:0.130993\teval-rmspe:0.143337\n",
      "[173]\ttrain-rmspe:0.130953\teval-rmspe:0.143288\n",
      "[174]\ttrain-rmspe:0.130646\teval-rmspe:0.143313\n",
      "[175]\ttrain-rmspe:0.130648\teval-rmspe:0.143296\n",
      "[176]\ttrain-rmspe:0.130592\teval-rmspe:0.143311\n",
      "[177]\ttrain-rmspe:0.130516\teval-rmspe:0.143377\n",
      "[178]\ttrain-rmspe:0.130448\teval-rmspe:0.143397\n",
      "[179]\ttrain-rmspe:0.130380\teval-rmspe:0.143446\n",
      "[180]\ttrain-rmspe:0.130387\teval-rmspe:0.143421\n",
      "[181]\ttrain-rmspe:0.130331\teval-rmspe:0.143396\n",
      "[182]\ttrain-rmspe:0.130466\teval-rmspe:0.143400\n",
      "[183]\ttrain-rmspe:0.130448\teval-rmspe:0.143417\n",
      "[184]\ttrain-rmspe:0.130395\teval-rmspe:0.143414\n",
      "[185]\ttrain-rmspe:0.130400\teval-rmspe:0.143460\n",
      "[186]\ttrain-rmspe:0.130392\teval-rmspe:0.143456\n",
      "[187]\ttrain-rmspe:0.130381\teval-rmspe:0.143454\n",
      "[188]\ttrain-rmspe:0.130313\teval-rmspe:0.143567\n",
      "[189]\ttrain-rmspe:0.130153\teval-rmspe:0.143666\n",
      "[190]\ttrain-rmspe:0.130021\teval-rmspe:0.143665\n",
      "[191]\ttrain-rmspe:0.129912\teval-rmspe:0.143674\n",
      "[192]\ttrain-rmspe:0.129891\teval-rmspe:0.143676\n",
      "[193]\ttrain-rmspe:0.129855\teval-rmspe:0.143633\n",
      "[194]\ttrain-rmspe:0.129747\teval-rmspe:0.143691\n",
      "[195]\ttrain-rmspe:0.129685\teval-rmspe:0.143713\n",
      "[196]\ttrain-rmspe:0.129631\teval-rmspe:0.143677\n",
      "Stopping. Best iteration:\n",
      "[146]\ttrain-rmspe:0.136000\teval-rmspe:0.143112\n",
      "\n"
     ]
    }
   ],
   "source": [
    "val_size = 15000\n",
    "\n",
    "\n",
    "params = {\"objective\": \"reg:linear\",\n",
    "          \"eta\": 0.2,\n",
    "          \"max_depth\": 12,\n",
    "          \"subsample\": 0.7,\n",
    "          \"colsample_bytree\": 0.7,\n",
    "          \"silent\": 1\n",
    "          }\n",
    "num_trees = 2000\n",
    "dtrain = xgb.DMatrix(X_train, y_train)\n",
    "dvalid = xgb.DMatrix(X_test, y_test)\n",
    "#dtest = xgb.DMatrix(test)\n",
    "watchlist = [(dtrain, 'train'),(dvalid, 'eval')]\n",
    "gbm5 = xgb.train(params, dtrain, num_trees, evals=watchlist, early_stopping_rounds=50, feval=rmspe_xg, verbose_eval=True)\n"
   ]
  },
  {
   "cell_type": "code",
   "execution_count": null,
   "metadata": {
    "collapsed": false
   },
   "outputs": [],
   "source": []
  },
  {
   "cell_type": "code",
   "execution_count": null,
   "metadata": {
    "collapsed": false
   },
   "outputs": [],
   "source": []
  },
  {
   "cell_type": "code",
   "execution_count": null,
   "metadata": {
    "collapsed": false
   },
   "outputs": [],
   "source": []
  },
  {
   "cell_type": "markdown",
   "metadata": {},
   "source": [
    "## Fit a Random Forest"
   ]
  },
  {
   "cell_type": "code",
   "execution_count": 46,
   "metadata": {
    "collapsed": false
   },
   "outputs": [],
   "source": [
    "from sklearn.ensemble import RandomForestRegressor\n",
    "\n",
    "rf = RandomForestRegressor().fit(X_train, y_train)"
   ]
  },
  {
   "cell_type": "code",
   "execution_count": 47,
   "metadata": {
    "collapsed": false
   },
   "outputs": [],
   "source": [
    "predictions = rf.predict(X_test)"
   ]
  },
  {
   "cell_type": "code",
   "execution_count": 48,
   "metadata": {
    "collapsed": false
   },
   "outputs": [
    {
     "data": {
      "image/png": "[encoded data removed]",
      "text/plain": [
       "<matplotlib.figure.Figure at 0x10b5c7150>"
      ]
     },
     "metadata": {},
     "output_type": "display_data"
    }
   ],
   "source": [
    "%matplotlib inline\n",
    "feature_importance = rf.feature_importances_\n",
    "# make importances relative to max importance\n",
    "feature_importance = 100.0 * (feature_importance / feature_importance.max())\n",
    "sorted_idx = np.argsort(feature_importance)\n",
    "pos = np.arange(sorted_idx.shape[0]) + .5\n",
    "plt.subplot(1, 2, 2)\n",
    "plt.barh(pos, feature_importance[sorted_idx], align='center')\n",
    "plt.yticks(pos, X_train.columns[sorted_idx])\n",
    "plt.xlabel('Relative Importance')\n",
    "plt.title('Variable Importance')\n",
    "plt.show()"
   ]
  },
  {
   "cell_type": "code",
   "execution_count": 49,
   "metadata": {
    "collapsed": false
   },
   "outputs": [
    {
     "data": {
      "text/plain": [
       "0.023487981624745993"
      ]
     },
     "execution_count": 49,
     "metadata": {},
     "output_type": "execute_result"
    }
   ],
   "source": [
    "from sklearn.metrics import mean_squared_error\n",
    "\n",
    "mean_squared_error(predictions, y_test)"
   ]
  },
  {
   "cell_type": "markdown",
   "metadata": {},
   "source": [
    "## Cross Validation Time"
   ]
  },
  {
   "cell_type": "code",
   "execution_count": 50,
   "metadata": {
    "collapsed": true
   },
   "outputs": [],
   "source": [
    "from sklearn.cross_validation import cross_val_score, cross_val_predict\n",
    "\n",
    "cv_pred = cross_val_predict(rf, X_train, y_train, cv=5, n_jobs=-1)"
   ]
  },
  {
   "cell_type": "code",
   "execution_count": 51,
   "metadata": {
    "collapsed": false
   },
   "outputs": [
    {
     "data": {
      "text/plain": [
       "0.023673221161816613"
      ]
     },
     "execution_count": 51,
     "metadata": {},
     "output_type": "execute_result"
    }
   ],
   "source": [
    "mean_squared_error(cv_pred, y_train)"
   ]
  },
  {
   "cell_type": "code",
   "execution_count": 52,
   "metadata": {
    "collapsed": false
   },
   "outputs": [],
   "source": [
    "#cv_scores = cross_val_score(rf, X_train, y_train, cv=5)"
   ]
  },
  {
   "cell_type": "code",
   "execution_count": 18,
   "metadata": {
    "collapsed": false
   },
   "outputs": [
    {
     "data": {
      "text/plain": [
       "array([ 0.82619497,  0.82981324,  0.83280576,  0.83177829,  0.82525807])"
      ]
     },
     "execution_count": 18,
     "metadata": {},
     "output_type": "execute_result"
    }
   ],
   "source": [
    "cv_scores"
   ]
  },
  {
   "cell_type": "markdown",
   "metadata": {},
   "source": [
    "## Got Another Shit Result, Trying AdaBoost"
   ]
  },
  {
   "cell_type": "code",
   "execution_count": null,
   "metadata": {
    "collapsed": false
   },
   "outputs": [],
   "source": []
  },
  {
   "cell_type": "code",
   "execution_count": null,
   "metadata": {
    "collapsed": true
   },
   "outputs": [],
   "source": []
  },
  {
   "cell_type": "markdown",
   "metadata": {},
   "source": [
    "## Bring in the Evaluation Set"
   ]
  },
  {
   "cell_type": "code",
   "execution_count": 56,
   "metadata": {
    "collapsed": false
   },
   "outputs": [
    {
     "data": {
      "text/html": [
       "<div>\n",
       "<table border=\"1\" class=\"dataframe\">\n",
       "  <thead>\n",
       "    <tr style=\"text-align: right;\">\n",
       "      <th></th>\n",
       "      <th>0</th>\n",
       "      <th>1</th>\n",
       "      <th>2</th>\n",
       "      <th>3</th>\n",
       "      <th>4</th>\n",
       "      <th>5</th>\n",
       "      <th>6</th>\n",
       "      <th>7</th>\n",
       "      <th>8</th>\n",
       "      <th>9</th>\n",
       "      <th>...</th>\n",
       "      <th>13</th>\n",
       "      <th>14</th>\n",
       "      <th>DayOfWeek</th>\n",
       "      <th>Store</th>\n",
       "      <th>WeekNumber</th>\n",
       "      <th>Open</th>\n",
       "      <th>Id</th>\n",
       "      <th>Observed</th>\n",
       "      <th>Trend</th>\n",
       "      <th>MeanCustomerObserved</th>\n",
       "    </tr>\n",
       "  </thead>\n",
       "  <tbody>\n",
       "    <tr>\n",
       "      <th>0</th>\n",
       "      <td>0</td>\n",
       "      <td>1</td>\n",
       "      <td>1</td>\n",
       "      <td>0</td>\n",
       "      <td>0</td>\n",
       "      <td>0</td>\n",
       "      <td>1</td>\n",
       "      <td>0</td>\n",
       "      <td>0</td>\n",
       "      <td>0</td>\n",
       "      <td>...</td>\n",
       "      <td>0</td>\n",
       "      <td>0</td>\n",
       "      <td>4</td>\n",
       "      <td>1</td>\n",
       "      <td>38</td>\n",
       "      <td>1</td>\n",
       "      <td>1</td>\n",
       "      <td>8.446489</td>\n",
       "      <td>8.446712</td>\n",
       "      <td>8.446489</td>\n",
       "    </tr>\n",
       "    <tr>\n",
       "      <th>1</th>\n",
       "      <td>0</td>\n",
       "      <td>1</td>\n",
       "      <td>1</td>\n",
       "      <td>0</td>\n",
       "      <td>0</td>\n",
       "      <td>0</td>\n",
       "      <td>1</td>\n",
       "      <td>0</td>\n",
       "      <td>0</td>\n",
       "      <td>0</td>\n",
       "      <td>...</td>\n",
       "      <td>0</td>\n",
       "      <td>0</td>\n",
       "      <td>3</td>\n",
       "      <td>1</td>\n",
       "      <td>38</td>\n",
       "      <td>1</td>\n",
       "      <td>857</td>\n",
       "      <td>8.446489</td>\n",
       "      <td>8.446712</td>\n",
       "      <td>8.446489</td>\n",
       "    </tr>\n",
       "    <tr>\n",
       "      <th>2</th>\n",
       "      <td>0</td>\n",
       "      <td>1</td>\n",
       "      <td>1</td>\n",
       "      <td>0</td>\n",
       "      <td>0</td>\n",
       "      <td>0</td>\n",
       "      <td>1</td>\n",
       "      <td>0</td>\n",
       "      <td>0</td>\n",
       "      <td>0</td>\n",
       "      <td>...</td>\n",
       "      <td>0</td>\n",
       "      <td>0</td>\n",
       "      <td>2</td>\n",
       "      <td>1</td>\n",
       "      <td>38</td>\n",
       "      <td>1</td>\n",
       "      <td>1713</td>\n",
       "      <td>8.446489</td>\n",
       "      <td>8.446712</td>\n",
       "      <td>8.446489</td>\n",
       "    </tr>\n",
       "    <tr>\n",
       "      <th>3</th>\n",
       "      <td>0</td>\n",
       "      <td>1</td>\n",
       "      <td>1</td>\n",
       "      <td>0</td>\n",
       "      <td>0</td>\n",
       "      <td>0</td>\n",
       "      <td>1</td>\n",
       "      <td>0</td>\n",
       "      <td>0</td>\n",
       "      <td>0</td>\n",
       "      <td>...</td>\n",
       "      <td>0</td>\n",
       "      <td>0</td>\n",
       "      <td>1</td>\n",
       "      <td>1</td>\n",
       "      <td>38</td>\n",
       "      <td>1</td>\n",
       "      <td>2569</td>\n",
       "      <td>8.446489</td>\n",
       "      <td>8.446712</td>\n",
       "      <td>8.446489</td>\n",
       "    </tr>\n",
       "    <tr>\n",
       "      <th>4</th>\n",
       "      <td>1</td>\n",
       "      <td>0</td>\n",
       "      <td>1</td>\n",
       "      <td>0</td>\n",
       "      <td>0</td>\n",
       "      <td>0</td>\n",
       "      <td>1</td>\n",
       "      <td>0</td>\n",
       "      <td>0</td>\n",
       "      <td>0</td>\n",
       "      <td>...</td>\n",
       "      <td>0</td>\n",
       "      <td>0</td>\n",
       "      <td>7</td>\n",
       "      <td>1</td>\n",
       "      <td>37</td>\n",
       "      <td>0</td>\n",
       "      <td>3425</td>\n",
       "      <td>8.446489</td>\n",
       "      <td>8.446712</td>\n",
       "      <td>8.446489</td>\n",
       "    </tr>\n",
       "  </tbody>\n",
       "</table>\n",
       "<p>5 rows × 23 columns</p>\n",
       "</div>"
      ],
      "text/plain": [
       "   0  1  2  3  4  5  6  7  8  9          ...           13  14  DayOfWeek  \\\n",
       "0  0  1  1  0  0  0  1  0  0  0          ...            0   0          4   \n",
       "1  0  1  1  0  0  0  1  0  0  0          ...            0   0          3   \n",
       "2  0  1  1  0  0  0  1  0  0  0          ...            0   0          2   \n",
       "3  0  1  1  0  0  0  1  0  0  0          ...            0   0          1   \n",
       "4  1  0  1  0  0  0  1  0  0  0          ...            0   0          7   \n",
       "\n",
       "   Store  WeekNumber  Open    Id  Observed     Trend  MeanCustomerObserved  \n",
       "0      1          38     1     1  8.446489  8.446712              8.446489  \n",
       "1      1          38     1   857  8.446489  8.446712              8.446489  \n",
       "2      1          38     1  1713  8.446489  8.446712              8.446489  \n",
       "3      1          38     1  2569  8.446489  8.446712              8.446489  \n",
       "4      1          37     0  3425  8.446489  8.446712              8.446489  \n",
       "\n",
       "[5 rows x 23 columns]"
      ]
     },
     "execution_count": 56,
     "metadata": {},
     "output_type": "execute_result"
    }
   ],
   "source": [
    "test = pd.read_csv('../cleaneddata/cleanedtest.csv', index_col=0)\n",
    "test.head()\n",
    "# test.describe()"
   ]
  },
  {
   "cell_type": "markdown",
   "metadata": {
    "collapsed": false
   },
   "source": [
    "val_size = 15000\n",
    "\n",
    "\n",
    "params = {\"objective\": \"reg:linear\",\n",
    "          \"eta\": 0.2,\n",
    "          \"max_depth\": 12,\n",
    "          \"subsample\": 0.7,\n",
    "          \"colsample_bytree\": 0.7,\n",
    "          \"silent\": 1\n",
    "          }\n",
    "num_trees = 2000\n",
    "dtrain = xgb.DMatrix(X_train, y_train)\n",
    "dvalid = xgb.DMatrix(X_test, y_test)\n",
    "dtest = xgb.DMatrix(test)\n",
    "watchlist = [(dtrain, 'train'),(dvalid, 'eval')]\n",
    "gbm5 = xgb.train(params, dtrain, num_trees, evals=watchlist, early_stopping_rounds=100, feval=rmspe_xg, verbose_eval=True)\n"
   ]
  },
  {
   "cell_type": "code",
   "execution_count": 57,
   "metadata": {
    "collapsed": false
   },
   "outputs": [],
   "source": [
    "#dtest = xgb.DMatrix(test)"
   ]
  },
  {
   "cell_type": "code",
   "execution_count": 58,
   "metadata": {
    "collapsed": true
   },
   "outputs": [],
   "source": [
    "dtest = xgb.DMatrix(test.drop(['Open','Id'], axis=1))"
   ]
  },
  {
   "cell_type": "code",
   "execution_count": 59,
   "metadata": {
    "collapsed": false
   },
   "outputs": [],
   "source": [
    "pred_log_sales = gbm5.predict(dtest)"
   ]
  },
  {
   "cell_type": "code",
   "execution_count": 61,
   "metadata": {
    "collapsed": true
   },
   "outputs": [],
   "source": [
    "test['Sales'] = np.exp(pred_log_sales)"
   ]
  },
  {
   "cell_type": "code",
   "execution_count": 62,
   "metadata": {
    "collapsed": false
   },
   "outputs": [],
   "source": [
    "test.ix[test['Open'] == 0, 'Sales'] = 0"
   ]
  },
  {
   "cell_type": "code",
   "execution_count": 63,
   "metadata": {
    "collapsed": true
   },
   "outputs": [],
   "source": [
    "test.ix[:, ['Id', 'Sales']].to_csv('xgboostv6.csv', index=False, header=['Id', 'Sales'])"
   ]
  },
  {
   "cell_type": "code",
   "execution_count": 66,
   "metadata": {
    "collapsed": false
   },
   "outputs": [
    {
     "data": {
      "text/html": [
       "<div>\n",
       "<table border=\"1\" class=\"dataframe\">\n",
       "  <thead>\n",
       "    <tr style=\"text-align: right;\">\n",
       "      <th></th>\n",
       "      <th>0</th>\n",
       "      <th>1</th>\n",
       "      <th>2</th>\n",
       "      <th>3</th>\n",
       "      <th>4</th>\n",
       "      <th>5</th>\n",
       "      <th>6</th>\n",
       "      <th>7</th>\n",
       "      <th>8</th>\n",
       "      <th>9</th>\n",
       "      <th>...</th>\n",
       "      <th>14</th>\n",
       "      <th>DayOfWeek</th>\n",
       "      <th>Store</th>\n",
       "      <th>WeekNumber</th>\n",
       "      <th>Open</th>\n",
       "      <th>Id</th>\n",
       "      <th>Observed</th>\n",
       "      <th>Trend</th>\n",
       "      <th>MeanCustomerObserved</th>\n",
       "      <th>Sales</th>\n",
       "    </tr>\n",
       "  </thead>\n",
       "  <tbody>\n",
       "    <tr>\n",
       "      <th>count</th>\n",
       "      <td>41088.000000</td>\n",
       "      <td>41088.000000</td>\n",
       "      <td>41088.000000</td>\n",
       "      <td>41088.000000</td>\n",
       "      <td>41088</td>\n",
       "      <td>41088</td>\n",
       "      <td>41088.000000</td>\n",
       "      <td>41088.000000</td>\n",
       "      <td>41088.000000</td>\n",
       "      <td>41088.000000</td>\n",
       "      <td>...</td>\n",
       "      <td>41088.000000</td>\n",
       "      <td>41088.000000</td>\n",
       "      <td>41088.000000</td>\n",
       "      <td>41088.000000</td>\n",
       "      <td>41088.000000</td>\n",
       "      <td>41088.000000</td>\n",
       "      <td>41088.000000</td>\n",
       "      <td>41088.000000</td>\n",
       "      <td>41088.000000</td>\n",
       "      <td>41088.000000</td>\n",
       "    </tr>\n",
       "    <tr>\n",
       "      <th>mean</th>\n",
       "      <td>0.604167</td>\n",
       "      <td>0.395833</td>\n",
       "      <td>0.995619</td>\n",
       "      <td>0.004381</td>\n",
       "      <td>0</td>\n",
       "      <td>0</td>\n",
       "      <td>0.556513</td>\n",
       "      <td>0.443487</td>\n",
       "      <td>0.538551</td>\n",
       "      <td>0.014019</td>\n",
       "      <td>...</td>\n",
       "      <td>0.495327</td>\n",
       "      <td>3.979167</td>\n",
       "      <td>555.899533</td>\n",
       "      <td>34.645833</td>\n",
       "      <td>0.854361</td>\n",
       "      <td>20544.500000</td>\n",
       "      <td>8.748158</td>\n",
       "      <td>8.748200</td>\n",
       "      <td>8.748158</td>\n",
       "      <td>5635.969238</td>\n",
       "    </tr>\n",
       "    <tr>\n",
       "      <th>std</th>\n",
       "      <td>0.489035</td>\n",
       "      <td>0.489035</td>\n",
       "      <td>0.066044</td>\n",
       "      <td>0.066044</td>\n",
       "      <td>0</td>\n",
       "      <td>0</td>\n",
       "      <td>0.496802</td>\n",
       "      <td>0.496802</td>\n",
       "      <td>0.498518</td>\n",
       "      <td>0.117569</td>\n",
       "      <td>...</td>\n",
       "      <td>0.499984</td>\n",
       "      <td>2.015481</td>\n",
       "      <td>320.274496</td>\n",
       "      <td>2.015481</td>\n",
       "      <td>0.352748</td>\n",
       "      <td>11861.228267</td>\n",
       "      <td>0.305093</td>\n",
       "      <td>0.303913</td>\n",
       "      <td>0.305093</td>\n",
       "      <td>3379.678683</td>\n",
       "    </tr>\n",
       "    <tr>\n",
       "      <th>min</th>\n",
       "      <td>0.000000</td>\n",
       "      <td>0.000000</td>\n",
       "      <td>0.000000</td>\n",
       "      <td>0.000000</td>\n",
       "      <td>0</td>\n",
       "      <td>0</td>\n",
       "      <td>0.000000</td>\n",
       "      <td>0.000000</td>\n",
       "      <td>0.000000</td>\n",
       "      <td>0.000000</td>\n",
       "      <td>...</td>\n",
       "      <td>0.000000</td>\n",
       "      <td>1.000000</td>\n",
       "      <td>1.000000</td>\n",
       "      <td>31.000000</td>\n",
       "      <td>0.000000</td>\n",
       "      <td>1.000000</td>\n",
       "      <td>7.841170</td>\n",
       "      <td>7.845857</td>\n",
       "      <td>7.841170</td>\n",
       "      <td>0.000000</td>\n",
       "    </tr>\n",
       "    <tr>\n",
       "      <th>25%</th>\n",
       "      <td>0.000000</td>\n",
       "      <td>0.000000</td>\n",
       "      <td>1.000000</td>\n",
       "      <td>0.000000</td>\n",
       "      <td>0</td>\n",
       "      <td>0</td>\n",
       "      <td>0.000000</td>\n",
       "      <td>0.000000</td>\n",
       "      <td>0.000000</td>\n",
       "      <td>0.000000</td>\n",
       "      <td>...</td>\n",
       "      <td>0.000000</td>\n",
       "      <td>2.000000</td>\n",
       "      <td>279.750000</td>\n",
       "      <td>33.000000</td>\n",
       "      <td>1.000000</td>\n",
       "      <td>10272.750000</td>\n",
       "      <td>8.537835</td>\n",
       "      <td>8.538439</td>\n",
       "      <td>8.537835</td>\n",
       "      <td>4013.349243</td>\n",
       "    </tr>\n",
       "    <tr>\n",
       "      <th>50%</th>\n",
       "      <td>1.000000</td>\n",
       "      <td>0.000000</td>\n",
       "      <td>1.000000</td>\n",
       "      <td>0.000000</td>\n",
       "      <td>0</td>\n",
       "      <td>0</td>\n",
       "      <td>1.000000</td>\n",
       "      <td>0.000000</td>\n",
       "      <td>1.000000</td>\n",
       "      <td>0.000000</td>\n",
       "      <td>...</td>\n",
       "      <td>0.000000</td>\n",
       "      <td>4.000000</td>\n",
       "      <td>553.500000</td>\n",
       "      <td>35.000000</td>\n",
       "      <td>1.000000</td>\n",
       "      <td>20544.500000</td>\n",
       "      <td>8.743363</td>\n",
       "      <td>8.742518</td>\n",
       "      <td>8.743363</td>\n",
       "      <td>5662.744873</td>\n",
       "    </tr>\n",
       "    <tr>\n",
       "      <th>75%</th>\n",
       "      <td>1.000000</td>\n",
       "      <td>1.000000</td>\n",
       "      <td>1.000000</td>\n",
       "      <td>0.000000</td>\n",
       "      <td>0</td>\n",
       "      <td>0</td>\n",
       "      <td>1.000000</td>\n",
       "      <td>1.000000</td>\n",
       "      <td>1.000000</td>\n",
       "      <td>0.000000</td>\n",
       "      <td>...</td>\n",
       "      <td>1.000000</td>\n",
       "      <td>6.000000</td>\n",
       "      <td>832.250000</td>\n",
       "      <td>36.000000</td>\n",
       "      <td>1.000000</td>\n",
       "      <td>30816.250000</td>\n",
       "      <td>8.930526</td>\n",
       "      <td>8.929623</td>\n",
       "      <td>8.930526</td>\n",
       "      <td>7455.414673</td>\n",
       "    </tr>\n",
       "    <tr>\n",
       "      <th>max</th>\n",
       "      <td>1.000000</td>\n",
       "      <td>1.000000</td>\n",
       "      <td>1.000000</td>\n",
       "      <td>1.000000</td>\n",
       "      <td>0</td>\n",
       "      <td>0</td>\n",
       "      <td>1.000000</td>\n",
       "      <td>1.000000</td>\n",
       "      <td>1.000000</td>\n",
       "      <td>1.000000</td>\n",
       "      <td>...</td>\n",
       "      <td>1.000000</td>\n",
       "      <td>7.000000</td>\n",
       "      <td>1115.000000</td>\n",
       "      <td>38.000000</td>\n",
       "      <td>1.000000</td>\n",
       "      <td>41088.000000</td>\n",
       "      <td>9.922477</td>\n",
       "      <td>9.918074</td>\n",
       "      <td>9.922477</td>\n",
       "      <td>32679.511719</td>\n",
       "    </tr>\n",
       "  </tbody>\n",
       "</table>\n",
       "<p>8 rows × 24 columns</p>\n",
       "</div>"
      ],
      "text/plain": [
       "                  0             1             2             3      4      5  \\\n",
       "count  41088.000000  41088.000000  41088.000000  41088.000000  41088  41088   \n",
       "mean       0.604167      0.395833      0.995619      0.004381      0      0   \n",
       "std        0.489035      0.489035      0.066044      0.066044      0      0   \n",
       "min        0.000000      0.000000      0.000000      0.000000      0      0   \n",
       "25%        0.000000      0.000000      1.000000      0.000000      0      0   \n",
       "50%        1.000000      0.000000      1.000000      0.000000      0      0   \n",
       "75%        1.000000      1.000000      1.000000      0.000000      0      0   \n",
       "max        1.000000      1.000000      1.000000      1.000000      0      0   \n",
       "\n",
       "                  6             7             8             9      ...       \\\n",
       "count  41088.000000  41088.000000  41088.000000  41088.000000      ...        \n",
       "mean       0.556513      0.443487      0.538551      0.014019      ...        \n",
       "std        0.496802      0.496802      0.498518      0.117569      ...        \n",
       "min        0.000000      0.000000      0.000000      0.000000      ...        \n",
       "25%        0.000000      0.000000      0.000000      0.000000      ...        \n",
       "50%        1.000000      0.000000      1.000000      0.000000      ...        \n",
       "75%        1.000000      1.000000      1.000000      0.000000      ...        \n",
       "max        1.000000      1.000000      1.000000      1.000000      ...        \n",
       "\n",
       "                 14     DayOfWeek         Store    WeekNumber          Open  \\\n",
       "count  41088.000000  41088.000000  41088.000000  41088.000000  41088.000000   \n",
       "mean       0.495327      3.979167    555.899533     34.645833      0.854361   \n",
       "std        0.499984      2.015481    320.274496      2.015481      0.352748   \n",
       "min        0.000000      1.000000      1.000000     31.000000      0.000000   \n",
       "25%        0.000000      2.000000    279.750000     33.000000      1.000000   \n",
       "50%        0.000000      4.000000    553.500000     35.000000      1.000000   \n",
       "75%        1.000000      6.000000    832.250000     36.000000      1.000000   \n",
       "max        1.000000      7.000000   1115.000000     38.000000      1.000000   \n",
       "\n",
       "                 Id      Observed         Trend  MeanCustomerObserved  \\\n",
       "count  41088.000000  41088.000000  41088.000000          41088.000000   \n",
       "mean   20544.500000      8.748158      8.748200              8.748158   \n",
       "std    11861.228267      0.305093      0.303913              0.305093   \n",
       "min        1.000000      7.841170      7.845857              7.841170   \n",
       "25%    10272.750000      8.537835      8.538439              8.537835   \n",
       "50%    20544.500000      8.743363      8.742518              8.743363   \n",
       "75%    30816.250000      8.930526      8.929623              8.930526   \n",
       "max    41088.000000      9.922477      9.918074              9.922477   \n",
       "\n",
       "              Sales  \n",
       "count  41088.000000  \n",
       "mean    5635.969238  \n",
       "std     3379.678683  \n",
       "min        0.000000  \n",
       "25%     4013.349243  \n",
       "50%     5662.744873  \n",
       "75%     7455.414673  \n",
       "max    32679.511719  \n",
       "\n",
       "[8 rows x 24 columns]"
      ]
     },
     "execution_count": 66,
     "metadata": {},
     "output_type": "execute_result"
    }
   ],
   "source": [
    "test.describe()"
   ]
  },
  {
   "cell_type": "code",
   "execution_count": null,
   "metadata": {
    "collapsed": true
   },
   "outputs": [],
   "source": []
  }
 ],
 "metadata": {
  "kernelspec": {
   "display_name": "Python 2",
   "language": "python",
   "name": "python2"
  },
  "language_info": {
   "codemirror_mode": {
    "name": "ipython",
    "version": 2
   },
   "file_extension": ".py",
   "mimetype": "text/x-python",
   "name": "python",
   "nbconvert_exporter": "python",
   "pygments_lexer": "ipython2",
   "version": "2.7.10"
  }
 },
 "nbformat": 4,
 "nbformat_minor": 0
}
