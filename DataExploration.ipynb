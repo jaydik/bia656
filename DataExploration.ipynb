{
 "cells": [
  {
   "cell_type": "code",
   "execution_count": 1,
   "metadata": {
    "collapsed": false
   },
   "outputs": [],
   "source": [
    "import pandas as pd\n",
    "import numpy as np\n",
    "import matplotlib.pyplot as plt\n",
    "import datetime as dt"
   ]
  },
  {
   "cell_type": "code",
   "execution_count": 2,
   "metadata": {
    "collapsed": false
   },
   "outputs": [
    {
     "name": "stderr",
     "output_type": "stream",
     "text": [
      "/usr/lib/python2.7/dist-packages/pandas/io/parsers.py:1150: DtypeWarning: Columns (7) have mixed types. Specify dtype option on import or set low_memory=False.\n",
      "  data = self._reader.read(nrows)\n"
     ]
    }
   ],
   "source": [
    "data = pd.read_csv('./train.csv')"
   ]
  },
  {
   "cell_type": "code",
   "execution_count": 3,
   "metadata": {
    "collapsed": false
   },
   "outputs": [],
   "source": [
    "data['DateTime'] = pd.to_datetime(data['Date'])"
   ]
  },
  {
   "cell_type": "code",
   "execution_count": 4,
   "metadata": {
    "collapsed": false
   },
   "outputs": [],
   "source": [
    "data['Year'] = data['DateTime'].apply(lambda x: x.year)\n",
    "data['Month'] = data['DateTime'].apply(lambda x: x.month)\n",
    "data['Day'] = data['DateTime'].apply(lambda x: x.day)\n",
    "data['WeekNumber'] = data['DateTime'].apply(lambda x: x.isocalendar()[1])"
   ]
  },
  {
   "cell_type": "code",
   "execution_count": 5,
   "metadata": {
    "collapsed": false
   },
   "outputs": [
    {
     "data": {
      "text/plain": [
       "Store                     int64\n",
       "DayOfWeek                 int64\n",
       "Date                     object\n",
       "Sales                     int64\n",
       "Customers                 int64\n",
       "Open                      int64\n",
       "Promo                     int64\n",
       "StateHoliday             object\n",
       "SchoolHoliday             int64\n",
       "DateTime         datetime64[ns]\n",
       "Year                      int64\n",
       "Month                     int64\n",
       "Day                       int64\n",
       "WeekNumber                int64\n",
       "dtype: object"
      ]
     },
     "execution_count": 5,
     "metadata": {},
     "output_type": "execute_result"
    }
   ],
   "source": [
    "data.dtypes"
   ]
  },
  {
   "cell_type": "code",
   "execution_count": 9,
   "metadata": {
    "collapsed": false
   },
   "outputs": [],
   "source": [
    "date_groups = data.groupby('WeekNumber')"
   ]
  },
  {
   "cell_type": "code",
   "execution_count": 10,
   "metadata": {
    "collapsed": false
   },
   "outputs": [
    {
     "data": {
      "text/plain": [
       "WeekNumber\n",
       "1             4339.044625\n",
       "2             6354.031219\n",
       "3             5111.601025\n",
       "4             5595.613496\n",
       "5             5463.895836\n",
       "6             6504.228144\n",
       "7             4871.796242\n",
       "8             6198.905403\n",
       "9             5015.960837\n",
       "10            6576.679906\n",
       "11            4830.652829\n",
       "12            6299.949947\n",
       "13            5457.882127\n",
       "14            6084.850438\n",
       "15            5223.314755\n",
       "16            5934.788255\n",
       "17            4932.028870\n",
       "18            6234.087380\n",
       "19            6080.324706\n",
       "20            5292.308008\n",
       "21            5632.738159\n",
       "22            5331.294000\n",
       "23            6591.302498\n",
       "24            4870.437070\n",
       "25            6370.223959\n",
       "26            4973.631390\n",
       "27            6957.622297\n",
       "28            5106.326111\n",
       "29            6565.515911\n",
       "30            4842.166057\n",
       "31            7380.832070\n",
       "32            5639.805923\n",
       "33            5740.043415\n",
       "34            5430.695540\n",
       "35            5871.070523\n",
       "36            5633.349547\n",
       "37            5795.051359\n",
       "38            5273.759024\n",
       "39            5403.491010\n",
       "40            5338.578606\n",
       "41            6481.485366\n",
       "42            4751.055958\n",
       "43            5930.017561\n",
       "44            4832.993449\n",
       "45            6771.259582\n",
       "46            5546.914495\n",
       "47            5797.283136\n",
       "48            6585.302997\n",
       "49            7850.301324\n",
       "50            5893.436794\n",
       "51            9418.224111\n",
       "52            4714.787666\n",
       "Name: Sales, Length: 52, dtype: float64"
      ]
     },
     "execution_count": 10,
     "metadata": {},
     "output_type": "execute_result"
    }
   ],
   "source": [
    "date_groups['Sales'].mean()"
   ]
  },
  {
   "cell_type": "code",
   "execution_count": 11,
   "metadata": {
    "collapsed": false
   },
   "outputs": [
    {
     "name": "stdout",
     "output_type": "stream",
     "text": [
      "Populating the interactive namespace from numpy and matplotlib\n"
     ]
    },
    {
     "data": {
      "text/plain": [
       "<matplotlib.axes._subplots.AxesSubplot at 0x7f7952c15ad0>"
      ]
     },
     "execution_count": 11,
     "metadata": {},
     "output_type": "execute_result"
    },
    {
     "data": {
      "image/png": "[encoded data removed]",
      "text/plain": [
       "<matplotlib.figure.Figure at 0x7f7952cdc150>"
      ]
     },
     "metadata": {},
     "output_type": "display_data"
    }
   ],
   "source": [
    "%pylab inline\n",
    "date_groups['Sales'].mean().plot(figsize=(10,10), kind=\"bar\")"
   ]
  },
  {
   "cell_type": "code",
   "execution_count": 12,
   "metadata": {
    "collapsed": false
   },
   "outputs": [
    {
     "data": {
      "text/plain": [
       "<matplotlib.axes._subplots.AxesSubplot at 0x7f7952a796d0>"
      ]
     },
     "execution_count": 12,
     "metadata": {},
     "output_type": "execute_result"
    },
    {
     "data": {
      "image/png": "[encoded data removed]",
      "text/plain": [
       "<matplotlib.figure.Figure at 0x7f7952920990>"
      ]
     },
     "metadata": {},
     "output_type": "display_data"
    }
   ],
   "source": [
    "mask = (data['Open'] == 1)\n",
    "grouped = data.groupby('DateTime')\n",
    "grouped['Store'].count().plot(figsize=(13,13))"
   ]
  },
  {
   "cell_type": "code",
   "execution_count": 18,
   "metadata": {
    "collapsed": false
   },
   "outputs": [
    {
     "data": {
      "text/plain": [
       "count                  105836\n",
       "unique                    131\n",
       "top       2013-09-27 00:00:00\n",
       "freq                      934\n",
       "first     2013-07-29 00:00:00\n",
       "last      2015-07-31 00:00:00\n",
       "Name: DateTime, dtype: object"
      ]
     },
     "execution_count": 18,
     "metadata": {},
     "output_type": "execute_result"
    }
   ],
   "source": [
    "data[big_mask]['DateTime'].describe()"
   ]
  },
  {
   "cell_type": "code",
   "execution_count": 17,
   "metadata": {
    "collapsed": false
   },
   "outputs": [
    {
     "data": {
      "text/plain": [
       "count    105836.000000\n",
       "mean       6804.407054\n",
       "std        3003.926185\n",
       "min           0.000000\n",
       "25%        4751.000000\n",
       "50%        6260.000000\n",
       "75%        8204.000000\n",
       "max       33913.000000\n",
       "Name: Sales, dtype: float64"
      ]
     },
     "execution_count": 17,
     "metadata": {},
     "output_type": "execute_result"
    }
   ],
   "source": [
    "data[big_mask]['Sales'].describe()"
   ]
  },
  {
   "cell_type": "code",
   "execution_count": 20,
   "metadata": {
    "collapsed": false
   },
   "outputs": [
    {
     "data": {
      "text/html": [
       "<div style=\"max-height:1000px;max-width:1500px;overflow:auto;\">\n",
       "<table border=\"1\" class=\"dataframe\">\n",
       "  <thead>\n",
       "    <tr style=\"text-align: right;\">\n",
       "      <th></th>\n",
       "      <th>Store</th>\n",
       "      <th>DayOfWeek</th>\n",
       "      <th>Sales</th>\n",
       "      <th>Customers</th>\n",
       "      <th>Open</th>\n",
       "      <th>Promo</th>\n",
       "      <th>SchoolHoliday</th>\n",
       "      <th>Year</th>\n",
       "      <th>Month</th>\n",
       "      <th>Day</th>\n",
       "      <th>WeekNumber</th>\n",
       "    </tr>\n",
       "  </thead>\n",
       "  <tbody>\n",
       "    <tr>\n",
       "      <th>count</th>\n",
       "      <td> 172817.000000</td>\n",
       "      <td> 172817.000000</td>\n",
       "      <td> 172817</td>\n",
       "      <td> 172817</td>\n",
       "      <td> 172817</td>\n",
       "      <td> 172817.000000</td>\n",
       "      <td> 172817.000000</td>\n",
       "      <td> 172817.000000</td>\n",
       "      <td> 172817.000000</td>\n",
       "      <td> 172817.000000</td>\n",
       "      <td> 172817.000000</td>\n",
       "    </tr>\n",
       "    <tr>\n",
       "      <th>mean</th>\n",
       "      <td>    558.462987</td>\n",
       "      <td>      6.333769</td>\n",
       "      <td>      0</td>\n",
       "      <td>      0</td>\n",
       "      <td>      0</td>\n",
       "      <td>      0.064716</td>\n",
       "      <td>      0.105684</td>\n",
       "      <td>   2013.834027</td>\n",
       "      <td>      5.851768</td>\n",
       "      <td>     15.053467</td>\n",
       "      <td>     23.462645</td>\n",
       "    </tr>\n",
       "    <tr>\n",
       "      <th>std</th>\n",
       "      <td>    322.771734</td>\n",
       "      <td>      1.547688</td>\n",
       "      <td>      0</td>\n",
       "      <td>      0</td>\n",
       "      <td>      0</td>\n",
       "      <td>      0.246025</td>\n",
       "      <td>      0.307434</td>\n",
       "      <td>      0.778058</td>\n",
       "      <td>      3.336661</td>\n",
       "      <td>      9.252490</td>\n",
       "      <td>     14.643610</td>\n",
       "    </tr>\n",
       "    <tr>\n",
       "      <th>min</th>\n",
       "      <td>      1.000000</td>\n",
       "      <td>      1.000000</td>\n",
       "      <td>      0</td>\n",
       "      <td>      0</td>\n",
       "      <td>      0</td>\n",
       "      <td>      0.000000</td>\n",
       "      <td>      0.000000</td>\n",
       "      <td>   2013.000000</td>\n",
       "      <td>      1.000000</td>\n",
       "      <td>      1.000000</td>\n",
       "      <td>      1.000000</td>\n",
       "    </tr>\n",
       "    <tr>\n",
       "      <th>25%</th>\n",
       "      <td>    279.000000</td>\n",
       "      <td>      7.000000</td>\n",
       "      <td>      0</td>\n",
       "      <td>      0</td>\n",
       "      <td>      0</td>\n",
       "      <td>      0.000000</td>\n",
       "      <td>      0.000000</td>\n",
       "      <td>   2013.000000</td>\n",
       "      <td>      3.000000</td>\n",
       "      <td>      7.000000</td>\n",
       "      <td>     12.000000</td>\n",
       "    </tr>\n",
       "    <tr>\n",
       "      <th>50%</th>\n",
       "      <td>    560.000000</td>\n",
       "      <td>      7.000000</td>\n",
       "      <td>      0</td>\n",
       "      <td>      0</td>\n",
       "      <td>      0</td>\n",
       "      <td>      0.000000</td>\n",
       "      <td>      0.000000</td>\n",
       "      <td>   2014.000000</td>\n",
       "      <td>      5.000000</td>\n",
       "      <td>     15.000000</td>\n",
       "      <td>     21.000000</td>\n",
       "    </tr>\n",
       "    <tr>\n",
       "      <th>75%</th>\n",
       "      <td>    839.000000</td>\n",
       "      <td>      7.000000</td>\n",
       "      <td>      0</td>\n",
       "      <td>      0</td>\n",
       "      <td>      0</td>\n",
       "      <td>      0.000000</td>\n",
       "      <td>      0.000000</td>\n",
       "      <td>   2014.000000</td>\n",
       "      <td>      8.000000</td>\n",
       "      <td>     23.000000</td>\n",
       "      <td>     35.000000</td>\n",
       "    </tr>\n",
       "    <tr>\n",
       "      <th>max</th>\n",
       "      <td>   1115.000000</td>\n",
       "      <td>      7.000000</td>\n",
       "      <td>      0</td>\n",
       "      <td>      0</td>\n",
       "      <td>      0</td>\n",
       "      <td>      1.000000</td>\n",
       "      <td>      1.000000</td>\n",
       "      <td>   2015.000000</td>\n",
       "      <td>     12.000000</td>\n",
       "      <td>     31.000000</td>\n",
       "      <td>     52.000000</td>\n",
       "    </tr>\n",
       "  </tbody>\n",
       "</table>\n",
       "</div>"
      ],
      "text/plain": [
       "               Store      DayOfWeek   Sales  Customers    Open          Promo  \\\n",
       "count  172817.000000  172817.000000  172817     172817  172817  172817.000000   \n",
       "mean      558.462987       6.333769       0          0       0       0.064716   \n",
       "std       322.771734       1.547688       0          0       0       0.246025   \n",
       "min         1.000000       1.000000       0          0       0       0.000000   \n",
       "25%       279.000000       7.000000       0          0       0       0.000000   \n",
       "50%       560.000000       7.000000       0          0       0       0.000000   \n",
       "75%       839.000000       7.000000       0          0       0       0.000000   \n",
       "max      1115.000000       7.000000       0          0       0       1.000000   \n",
       "\n",
       "       SchoolHoliday           Year          Month            Day  \\\n",
       "count  172817.000000  172817.000000  172817.000000  172817.000000   \n",
       "mean        0.105684    2013.834027       5.851768      15.053467   \n",
       "std         0.307434       0.778058       3.336661       9.252490   \n",
       "min         0.000000    2013.000000       1.000000       1.000000   \n",
       "25%         0.000000    2013.000000       3.000000       7.000000   \n",
       "50%         0.000000    2014.000000       5.000000      15.000000   \n",
       "75%         0.000000    2014.000000       8.000000      23.000000   \n",
       "max         1.000000    2015.000000      12.000000      31.000000   \n",
       "\n",
       "          WeekNumber  \n",
       "count  172817.000000  \n",
       "mean       23.462645  \n",
       "std        14.643610  \n",
       "min         1.000000  \n",
       "25%        12.000000  \n",
       "50%        21.000000  \n",
       "75%        35.000000  \n",
       "max        52.000000  "
      ]
     },
     "execution_count": 20,
     "metadata": {},
     "output_type": "execute_result"
    }
   ],
   "source": [
    "data[data['Open'] == 0].describe()"
   ]
  },
  {
   "cell_type": "code",
   "execution_count": 18,
   "metadata": {
    "collapsed": false
   },
   "outputs": [],
   "source": [
    "data.to_csv('postProcessed.csv', index=False)"
   ]
  },
  {
   "cell_type": "code",
   "execution_count": null,
   "metadata": {
    "collapsed": false
   },
   "outputs": [],
   "source": []
  }
 ],
 "metadata": {
  "kernelspec": {
   "display_name": "Python 2",
   "language": "python",
   "name": "python2"
  },
  "language_info": {
   "codemirror_mode": {
    "name": "ipython",
    "version": 2
   },
   "file_extension": ".py",
   "mimetype": "text/x-python",
   "name": "python",
   "nbconvert_exporter": "python",
   "pygments_lexer": "ipython2",
   "version": "2.7.10"
  }
 },
 "nbformat": 4,
 "nbformat_minor": 0
}
