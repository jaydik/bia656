{
 "metadata": {
  "name": "",
  "signature": "sha256:7a27496d8e163f83a84cfb1231224673c7a0c03d47e669eef989cfa71e0e334a"
 },
 "nbformat": 3,
 "nbformat_minor": 0,
 "worksheets": [
  {
   "cells": [
    {
     "cell_type": "code",
     "collapsed": false,
     "input": [
      "import pandas as pd\n",
      "import numpy as np\n",
      "import matplotlib.pyplot as plt\n",
      "import datetime as dt"
     ],
     "language": "python",
     "metadata": {},
     "outputs": [],
     "prompt_number": 1
    },
    {
     "cell_type": "code",
     "collapsed": false,
     "input": [
      "data = pd.read_csv('./train.csv')"
     ],
     "language": "python",
     "metadata": {},
     "outputs": [
      {
       "output_type": "stream",
       "stream": "stderr",
       "text": [
        "/usr/lib/python2.7/dist-packages/pandas/io/parsers.py:1150: DtypeWarning: Columns (7) have mixed types. Specify dtype option on import or set low_memory=False.\n",
        "  data = self._reader.read(nrows)\n"
       ]
      }
     ],
     "prompt_number": 2
    },
    {
     "cell_type": "code",
     "collapsed": false,
     "input": [
      "data['DateTime'] = pd.to_datetime(data['Date'])"
     ],
     "language": "python",
     "metadata": {},
     "outputs": [],
     "prompt_number": 3
    },
    {
     "cell_type": "code",
     "collapsed": false,
     "input": [
      "data['Year'] = data['DateTime'].apply(lambda x: x.year)\n",
      "data['Month'] = data['DateTime'].apply(lambda x: x.month)\n",
      "data['Day'] = data['DateTime'].apply(lambda x: x.day)\n",
      "data['WeekNumber'] = data['DateTime'].apply(lambda x: x.isocalendar()[1])"
     ],
     "language": "python",
     "metadata": {},
     "outputs": [],
     "prompt_number": 4
    },
    {
     "cell_type": "code",
     "collapsed": false,
     "input": [
      "data.dtypes"
     ],
     "language": "python",
     "metadata": {},
     "outputs": [
      {
       "metadata": {},
       "output_type": "pyout",
       "prompt_number": 5,
       "text": [
        "Store                     int64\n",
        "DayOfWeek                 int64\n",
        "Date                     object\n",
        "Sales                     int64\n",
        "Customers                 int64\n",
        "Open                      int64\n",
        "Promo                     int64\n",
        "StateHoliday             object\n",
        "SchoolHoliday             int64\n",
        "DateTime         datetime64[ns]\n",
        "Year                      int64\n",
        "Month                     int64\n",
        "Day                       int64\n",
        "WeekNumber                int64\n",
        "dtype: object"
       ]
      }
     ],
     "prompt_number": 5
    },
    {
     "cell_type": "code",
     "collapsed": false,
     "input": [
      "date_groups = data.groupby('Month')"
     ],
     "language": "python",
     "metadata": {},
     "outputs": [],
     "prompt_number": 6
    },
    {
     "cell_type": "code",
     "collapsed": false,
     "input": [
      "date_groups['Sales'].mean()"
     ],
     "language": "python",
     "metadata": {},
     "outputs": [
      {
       "metadata": {},
       "output_type": "pyout",
       "prompt_number": 7,
       "text": [
        "Month\n",
        "1        5465.395529\n",
        "2        5645.253150\n",
        "3        5784.578871\n",
        "4        5738.866916\n",
        "5        5489.639973\n",
        "6        5760.964375\n",
        "7        6064.915711\n",
        "8        5693.016554\n",
        "9        5570.246033\n",
        "10       5537.037419\n",
        "11       6008.111821\n",
        "12       6826.611377\n",
        "Name: Sales, dtype: float64"
       ]
      }
     ],
     "prompt_number": 7
    },
    {
     "cell_type": "code",
     "collapsed": false,
     "input": [
      "%pylab inline\n",
      "date_groups['Sales'].mean().plot(figsize=(10,10), kind=\"bar\")"
     ],
     "language": "python",
     "metadata": {},
     "outputs": [
      {
       "output_type": "stream",
       "stream": "stdout",
       "text": [
        "Populating the interactive namespace from numpy and matplotlib\n"
       ]
      },
      {
       "metadata": {},
       "output_type": "pyout",
       "prompt_number": 8,
       "text": [
        "<matplotlib.axes._subplots.AxesSubplot at 0x7f1c77851050>"
       ]
      },
      {
       "metadata": {},
       "output_type": "display_data",
       "png": "[encoded data removed]",
       "text": [
        "<matplotlib.figure.Figure at 0x7f1c778b9950>"
       ]
      }
     ],
     "prompt_number": 8
    },
    {
     "cell_type": "code",
     "collapsed": false,
     "input": [
      "mask = (data['Open'] == 1)\n",
      "grouped = data.groupby('DateTime')\n",
      "grouped['Store'].count().plot(figsize=(13,13))"
     ],
     "language": "python",
     "metadata": {},
     "outputs": [
      {
       "metadata": {},
       "output_type": "pyout",
       "prompt_number": 9,
       "text": [
        "<matplotlib.axes._subplots.AxesSubplot at 0x7f1c777f7e10>"
       ]
      },
      {
       "metadata": {},
       "output_type": "display_data",
       "png": "[encoded data removed]",
       "text": [
        "<matplotlib.figure.Figure at 0x7f1c77769190>"
       ]
      }
     ],
     "prompt_number": 9
    },
    {
     "cell_type": "code",
     "collapsed": false,
     "input": [
      "store_dict = {942: [],\n",
      "              941: [],\n",
      "              758: []}\n",
      "for x, y in data.groupby('Store'):\n",
      "    store_dict[y['Sales'].count()].append(x)\n",
      "    "
     ],
     "language": "python",
     "metadata": {},
     "outputs": [],
     "prompt_number": 10
    },
    {
     "cell_type": "code",
     "collapsed": false,
     "input": [
      "full_data_mask = data['Store'].apply(lambda x: x in store_dict[942])"
     ],
     "language": "python",
     "metadata": {},
     "outputs": [],
     "prompt_number": 11
    },
    {
     "cell_type": "code",
     "collapsed": false,
     "input": [
      "big_mask = full_data_mask & (data['Open'] == 1) & (data['WeekNumber'] > 30) & (data['WeekNumber']<40)"
     ],
     "language": "python",
     "metadata": {},
     "outputs": [],
     "prompt_number": 12
    },
    {
     "cell_type": "code",
     "collapsed": false,
     "input": [
      "data[full_data_mask & (data['Open'] == 1)].groupby('WeekNumber')['Sales'].mean().plot()"
     ],
     "language": "python",
     "metadata": {},
     "outputs": [
      {
       "metadata": {},
       "output_type": "pyout",
       "prompt_number": 13,
       "text": [
        "<matplotlib.axes._subplots.AxesSubplot at 0x7f7d2ffbbe90>"
       ]
      },
      {
       "metadata": {},
       "output_type": "display_data",
       "png": "[encoded data removed]",
       "text": [
        "<matplotlib.figure.Figure at 0x7f7d303a0f10>"
       ]
      }
     ],
     "prompt_number": 13
    },
    {
     "cell_type": "code",
     "collapsed": false,
     "input": [
      "data[big_mask]['DateTime'].describe()"
     ],
     "language": "python",
     "metadata": {},
     "outputs": [
      {
       "metadata": {},
       "output_type": "pyout",
       "prompt_number": 18,
       "text": [
        "count                  105836\n",
        "unique                    131\n",
        "top       2013-09-27 00:00:00\n",
        "freq                      934\n",
        "first     2013-07-29 00:00:00\n",
        "last      2015-07-31 00:00:00\n",
        "Name: DateTime, dtype: object"
       ]
      }
     ],
     "prompt_number": 18
    },
    {
     "cell_type": "code",
     "collapsed": false,
     "input": [
      "data[big_mask]['Sales'].describe()"
     ],
     "language": "python",
     "metadata": {},
     "outputs": [
      {
       "metadata": {},
       "output_type": "pyout",
       "prompt_number": 17,
       "text": [
        "count    105836.000000\n",
        "mean       6804.407054\n",
        "std        3003.926185\n",
        "min           0.000000\n",
        "25%        4751.000000\n",
        "50%        6260.000000\n",
        "75%        8204.000000\n",
        "max       33913.000000\n",
        "Name: Sales, dtype: float64"
       ]
      }
     ],
     "prompt_number": 17
    },
    {
     "cell_type": "code",
     "collapsed": false,
     "input": [
      "data[data['Open'] == 0].describe()"
     ],
     "language": "python",
     "metadata": {},
     "outputs": [
      {
       "html": [
        "<div style=\"max-height:1000px;max-width:1500px;overflow:auto;\">\n",
        "<table border=\"1\" class=\"dataframe\">\n",
        "  <thead>\n",
        "    <tr style=\"text-align: right;\">\n",
        "      <th></th>\n",
        "      <th>Store</th>\n",
        "      <th>DayOfWeek</th>\n",
        "      <th>Sales</th>\n",
        "      <th>Customers</th>\n",
        "      <th>Open</th>\n",
        "      <th>Promo</th>\n",
        "      <th>SchoolHoliday</th>\n",
        "      <th>Year</th>\n",
        "      <th>Month</th>\n",
        "      <th>Day</th>\n",
        "      <th>WeekNumber</th>\n",
        "    </tr>\n",
        "  </thead>\n",
        "  <tbody>\n",
        "    <tr>\n",
        "      <th>count</th>\n",
        "      <td> 172817.000000</td>\n",
        "      <td> 172817.000000</td>\n",
        "      <td> 172817</td>\n",
        "      <td> 172817</td>\n",
        "      <td> 172817</td>\n",
        "      <td> 172817.000000</td>\n",
        "      <td> 172817.000000</td>\n",
        "      <td> 172817.000000</td>\n",
        "      <td> 172817.000000</td>\n",
        "      <td> 172817.000000</td>\n",
        "      <td> 172817.000000</td>\n",
        "    </tr>\n",
        "    <tr>\n",
        "      <th>mean</th>\n",
        "      <td>    558.462987</td>\n",
        "      <td>      6.333769</td>\n",
        "      <td>      0</td>\n",
        "      <td>      0</td>\n",
        "      <td>      0</td>\n",
        "      <td>      0.064716</td>\n",
        "      <td>      0.105684</td>\n",
        "      <td>   2013.834027</td>\n",
        "      <td>      5.851768</td>\n",
        "      <td>     15.053467</td>\n",
        "      <td>     23.462645</td>\n",
        "    </tr>\n",
        "    <tr>\n",
        "      <th>std</th>\n",
        "      <td>    322.771734</td>\n",
        "      <td>      1.547688</td>\n",
        "      <td>      0</td>\n",
        "      <td>      0</td>\n",
        "      <td>      0</td>\n",
        "      <td>      0.246025</td>\n",
        "      <td>      0.307434</td>\n",
        "      <td>      0.778058</td>\n",
        "      <td>      3.336661</td>\n",
        "      <td>      9.252490</td>\n",
        "      <td>     14.643610</td>\n",
        "    </tr>\n",
        "    <tr>\n",
        "      <th>min</th>\n",
        "      <td>      1.000000</td>\n",
        "      <td>      1.000000</td>\n",
        "      <td>      0</td>\n",
        "      <td>      0</td>\n",
        "      <td>      0</td>\n",
        "      <td>      0.000000</td>\n",
        "      <td>      0.000000</td>\n",
        "      <td>   2013.000000</td>\n",
        "      <td>      1.000000</td>\n",
        "      <td>      1.000000</td>\n",
        "      <td>      1.000000</td>\n",
        "    </tr>\n",
        "    <tr>\n",
        "      <th>25%</th>\n",
        "      <td>    279.000000</td>\n",
        "      <td>      7.000000</td>\n",
        "      <td>      0</td>\n",
        "      <td>      0</td>\n",
        "      <td>      0</td>\n",
        "      <td>      0.000000</td>\n",
        "      <td>      0.000000</td>\n",
        "      <td>   2013.000000</td>\n",
        "      <td>      3.000000</td>\n",
        "      <td>      7.000000</td>\n",
        "      <td>     12.000000</td>\n",
        "    </tr>\n",
        "    <tr>\n",
        "      <th>50%</th>\n",
        "      <td>    560.000000</td>\n",
        "      <td>      7.000000</td>\n",
        "      <td>      0</td>\n",
        "      <td>      0</td>\n",
        "      <td>      0</td>\n",
        "      <td>      0.000000</td>\n",
        "      <td>      0.000000</td>\n",
        "      <td>   2014.000000</td>\n",
        "      <td>      5.000000</td>\n",
        "      <td>     15.000000</td>\n",
        "      <td>     21.000000</td>\n",
        "    </tr>\n",
        "    <tr>\n",
        "      <th>75%</th>\n",
        "      <td>    839.000000</td>\n",
        "      <td>      7.000000</td>\n",
        "      <td>      0</td>\n",
        "      <td>      0</td>\n",
        "      <td>      0</td>\n",
        "      <td>      0.000000</td>\n",
        "      <td>      0.000000</td>\n",
        "      <td>   2014.000000</td>\n",
        "      <td>      8.000000</td>\n",
        "      <td>     23.000000</td>\n",
        "      <td>     35.000000</td>\n",
        "    </tr>\n",
        "    <tr>\n",
        "      <th>max</th>\n",
        "      <td>   1115.000000</td>\n",
        "      <td>      7.000000</td>\n",
        "      <td>      0</td>\n",
        "      <td>      0</td>\n",
        "      <td>      0</td>\n",
        "      <td>      1.000000</td>\n",
        "      <td>      1.000000</td>\n",
        "      <td>   2015.000000</td>\n",
        "      <td>     12.000000</td>\n",
        "      <td>     31.000000</td>\n",
        "      <td>     52.000000</td>\n",
        "    </tr>\n",
        "  </tbody>\n",
        "</table>\n",
        "</div>"
       ],
       "metadata": {},
       "output_type": "pyout",
       "prompt_number": 20,
       "text": [
        "               Store      DayOfWeek   Sales  Customers    Open          Promo  \\\n",
        "count  172817.000000  172817.000000  172817     172817  172817  172817.000000   \n",
        "mean      558.462987       6.333769       0          0       0       0.064716   \n",
        "std       322.771734       1.547688       0          0       0       0.246025   \n",
        "min         1.000000       1.000000       0          0       0       0.000000   \n",
        "25%       279.000000       7.000000       0          0       0       0.000000   \n",
        "50%       560.000000       7.000000       0          0       0       0.000000   \n",
        "75%       839.000000       7.000000       0          0       0       0.000000   \n",
        "max      1115.000000       7.000000       0          0       0       1.000000   \n",
        "\n",
        "       SchoolHoliday           Year          Month            Day  \\\n",
        "count  172817.000000  172817.000000  172817.000000  172817.000000   \n",
        "mean        0.105684    2013.834027       5.851768      15.053467   \n",
        "std         0.307434       0.778058       3.336661       9.252490   \n",
        "min         0.000000    2013.000000       1.000000       1.000000   \n",
        "25%         0.000000    2013.000000       3.000000       7.000000   \n",
        "50%         0.000000    2014.000000       5.000000      15.000000   \n",
        "75%         0.000000    2014.000000       8.000000      23.000000   \n",
        "max         1.000000    2015.000000      12.000000      31.000000   \n",
        "\n",
        "          WeekNumber  \n",
        "count  172817.000000  \n",
        "mean       23.462645  \n",
        "std        14.643610  \n",
        "min         1.000000  \n",
        "25%        12.000000  \n",
        "50%        21.000000  \n",
        "75%        35.000000  \n",
        "max        52.000000  "
       ]
      }
     ],
     "prompt_number": 20
    },
    {
     "cell_type": "code",
     "collapsed": false,
     "input": [],
     "language": "python",
     "metadata": {},
     "outputs": []
    }
   ],
   "metadata": {}
  }
 ]
}